{
 "cells": [
  {
   "cell_type": "markdown",
   "id": "7c8b2ede",
   "metadata": {},
   "source": [
    "### Covered concepts like Fault Tolerance, HITL, Short Term Memory, Time Travel \n"
   ]
  },
  {
   "cell_type": "code",
   "execution_count": 2,
   "id": "7f76e976",
   "metadata": {},
   "outputs": [],
   "source": [
    "from langgraph.graph import StateGraph, START, END\n",
    "from typing import TypedDict\n",
    "from langchain_google_genai import ChatGoogleGenerativeAI\n",
    "from dotenv import load_dotenv\n",
    "from langgraph.checkpoint.memory import InMemorySaver"
   ]
  },
  {
   "cell_type": "code",
   "execution_count": 3,
   "id": "84ead3d9",
   "metadata": {},
   "outputs": [],
   "source": [
    "load_dotenv()\n",
    "\n",
    "llm = ChatGoogleGenerativeAI(model='gemini-2.5-flash')"
   ]
  },
  {
   "cell_type": "code",
   "execution_count": 4,
   "id": "0186b983",
   "metadata": {},
   "outputs": [],
   "source": [
    "class JokeState(TypedDict):\n",
    "\n",
    "    topic: str\n",
    "    joke: str\n",
    "    explanation: str"
   ]
  },
  {
   "cell_type": "code",
   "execution_count": 5,
   "id": "274398a0",
   "metadata": {},
   "outputs": [],
   "source": [
    "def generate_joke(state: JokeState):\n",
    "\n",
    "    prompt = f'generate a joke on the topic {state[\"topic\"]}'\n",
    "    response = llm.invoke(prompt).content\n",
    "\n",
    "    return {'joke': response}"
   ]
  },
  {
   "cell_type": "code",
   "execution_count": 6,
   "id": "514360f6",
   "metadata": {},
   "outputs": [],
   "source": [
    "def generate_explanation(state: JokeState):\n",
    "\n",
    "    prompt = f'write an explanation for the joke - {state[\"joke\"]}'\n",
    "    response = llm.invoke(prompt).content\n",
    "\n",
    "    return {'explanation': response}"
   ]
  },
  {
   "cell_type": "code",
   "execution_count": 7,
   "id": "2c660c2c",
   "metadata": {},
   "outputs": [],
   "source": [
    "graph = StateGraph(JokeState)\n",
    "\n",
    "graph.add_node('generate_joke', generate_joke)\n",
    "graph.add_node('generate_explanation', generate_explanation)\n",
    "\n",
    "graph.add_edge(START, 'generate_joke')\n",
    "graph.add_edge('generate_joke', 'generate_explanation')\n",
    "graph.add_edge('generate_explanation', END)\n",
    "\n",
    "checkpointer = InMemorySaver()\n",
    "\n",
    "workflow = graph.compile(checkpointer=checkpointer)"
   ]
  },
  {
   "cell_type": "code",
   "execution_count": 8,
   "id": "bdbe2bac",
   "metadata": {},
   "outputs": [
    {
     "data": {
      "image/png": "[encoded data removed]",
      "text/plain": [
       "<langgraph.graph.state.CompiledStateGraph object at 0x7db7e51d5970>"
      ]
     },
     "execution_count": 8,
     "metadata": {},
     "output_type": "execute_result"
    }
   ],
   "source": [
    "workflow"
   ]
  },
  {
   "cell_type": "code",
   "execution_count": 9,
   "id": "836deca4",
   "metadata": {},
   "outputs": [
    {
     "data": {
      "text/plain": [
       "{'topic': 'pizza',\n",
       " 'joke': 'Why did the pizza maker go broke?\\n\\nBecause he kneaded all his dough!',\n",
       " 'explanation': 'This joke is a classic **pun**, playing on the double meaning of the word **\"dough\"**.\\n\\nHere\\'s the breakdown:\\n\\n1.  **\"Dough\" (Meaning 1 - Literal):** In the context of a pizza maker, \"dough\" refers to the mixture of flour, water, and yeast that you knead (work with your hands) to make the pizza crust. A pizza maker literally kneads a lot of dough every day.\\n\\n2.  **\"Dough\" (Meaning 2 - Slang):** \"Dough\" is also a common slang term for **money**.\\n\\nThe joke works by setting up the expectation of a business failure (\"Why did the pizza maker go broke?\"). The punchline then uses the literal action of a pizza maker (\"he kneaded all his dough\") but intends for you to interpret \"dough\" in its slang meaning of \"money.\"\\n\\nSo, the joke implies:\\n*   He went broke because he literally spent/used up all his **money** (his \"dough\").\\n*   It\\'s a humorous twist because a pizza maker *should* be making money from kneading dough, not losing it!\\n\\nThe humor comes from the unexpected shift in meaning for the word \"dough.\"'}"
      ]
     },
     "execution_count": 9,
     "metadata": {},
     "output_type": "execute_result"
    }
   ],
   "source": [
    "config1 = {\"configurable\": {\"thread_id\": \"1\"}}\n",
    "workflow.invoke({'topic':'pizza'}, config=config1)"
   ]
  },
  {
   "cell_type": "code",
   "execution_count": 10,
   "id": "7b984763",
   "metadata": {},
   "outputs": [
    {
     "data": {
      "text/plain": [
       "StateSnapshot(values={'topic': 'pizza', 'joke': 'Why did the pizza maker go broke?\\n\\nBecause he kneaded all his dough!', 'explanation': 'This joke is a classic **pun**, playing on the double meaning of the word **\"dough\"**.\\n\\nHere\\'s the breakdown:\\n\\n1.  **\"Dough\" (Meaning 1 - Literal):** In the context of a pizza maker, \"dough\" refers to the mixture of flour, water, and yeast that you knead (work with your hands) to make the pizza crust. A pizza maker literally kneads a lot of dough every day.\\n\\n2.  **\"Dough\" (Meaning 2 - Slang):** \"Dough\" is also a common slang term for **money**.\\n\\nThe joke works by setting up the expectation of a business failure (\"Why did the pizza maker go broke?\"). The punchline then uses the literal action of a pizza maker (\"he kneaded all his dough\") but intends for you to interpret \"dough\" in its slang meaning of \"money.\"\\n\\nSo, the joke implies:\\n*   He went broke because he literally spent/used up all his **money** (his \"dough\").\\n*   It\\'s a humorous twist because a pizza maker *should* be making money from kneading dough, not losing it!\\n\\nThe humor comes from the unexpected shift in meaning for the word \"dough.\"'}, next=(), config={'configurable': {'thread_id': '1', 'checkpoint_ns': '', 'checkpoint_id': '1f09204e-0892-6a04-8002-25ad68e25a80'}}, metadata={'source': 'loop', 'step': 2, 'parents': {}}, created_at='2025-09-15T07:23:29.309478+00:00', parent_config={'configurable': {'thread_id': '1', 'checkpoint_ns': '', 'checkpoint_id': '1f09204d-53df-6611-8001-d987252d24e1'}}, tasks=(), interrupts=())"
      ]
     },
     "execution_count": 10,
     "metadata": {},
     "output_type": "execute_result"
    }
   ],
   "source": [
    "workflow.get_state(config1)"
   ]
  },
  {
   "cell_type": "code",
   "execution_count": 11,
   "id": "d200d491",
   "metadata": {},
   "outputs": [
    {
     "data": {
      "text/plain": [
       "[StateSnapshot(values={'topic': 'pizza', 'joke': 'Why did the pizza maker go broke?\\n\\nBecause he kneaded all his dough!', 'explanation': 'This joke is a classic **pun**, playing on the double meaning of the word **\"dough\"**.\\n\\nHere\\'s the breakdown:\\n\\n1.  **\"Dough\" (Meaning 1 - Literal):** In the context of a pizza maker, \"dough\" refers to the mixture of flour, water, and yeast that you knead (work with your hands) to make the pizza crust. A pizza maker literally kneads a lot of dough every day.\\n\\n2.  **\"Dough\" (Meaning 2 - Slang):** \"Dough\" is also a common slang term for **money**.\\n\\nThe joke works by setting up the expectation of a business failure (\"Why did the pizza maker go broke?\"). The punchline then uses the literal action of a pizza maker (\"he kneaded all his dough\") but intends for you to interpret \"dough\" in its slang meaning of \"money.\"\\n\\nSo, the joke implies:\\n*   He went broke because he literally spent/used up all his **money** (his \"dough\").\\n*   It\\'s a humorous twist because a pizza maker *should* be making money from kneading dough, not losing it!\\n\\nThe humor comes from the unexpected shift in meaning for the word \"dough.\"'}, next=(), config={'configurable': {'thread_id': '1', 'checkpoint_ns': '', 'checkpoint_id': '1f09204e-0892-6a04-8002-25ad68e25a80'}}, metadata={'source': 'loop', 'step': 2, 'parents': {}}, created_at='2025-09-15T07:23:29.309478+00:00', parent_config={'configurable': {'thread_id': '1', 'checkpoint_ns': '', 'checkpoint_id': '1f09204d-53df-6611-8001-d987252d24e1'}}, tasks=(), interrupts=()),\n",
       " StateSnapshot(values={'topic': 'pizza', 'joke': 'Why did the pizza maker go broke?\\n\\nBecause he kneaded all his dough!'}, next=('generate_explanation',), config={'configurable': {'thread_id': '1', 'checkpoint_ns': '', 'checkpoint_id': '1f09204d-53df-6611-8001-d987252d24e1'}}, metadata={'source': 'loop', 'step': 1, 'parents': {}}, created_at='2025-09-15T07:23:10.361687+00:00', parent_config={'configurable': {'thread_id': '1', 'checkpoint_ns': '', 'checkpoint_id': '1f09204c-e71e-6307-8000-430d501edfa8'}}, tasks=(PregelTask(id='b24927f2-2730-6181-3b00-cd20e55bc5b3', name='generate_explanation', path=('__pregel_pull', 'generate_explanation'), error=None, interrupts=(), state=None, result={'explanation': 'This joke is a classic **pun**, playing on the double meaning of the word **\"dough\"**.\\n\\nHere\\'s the breakdown:\\n\\n1.  **\"Dough\" (Meaning 1 - Literal):** In the context of a pizza maker, \"dough\" refers to the mixture of flour, water, and yeast that you knead (work with your hands) to make the pizza crust. A pizza maker literally kneads a lot of dough every day.\\n\\n2.  **\"Dough\" (Meaning 2 - Slang):** \"Dough\" is also a common slang term for **money**.\\n\\nThe joke works by setting up the expectation of a business failure (\"Why did the pizza maker go broke?\"). The punchline then uses the literal action of a pizza maker (\"he kneaded all his dough\") but intends for you to interpret \"dough\" in its slang meaning of \"money.\"\\n\\nSo, the joke implies:\\n*   He went broke because he literally spent/used up all his **money** (his \"dough\").\\n*   It\\'s a humorous twist because a pizza maker *should* be making money from kneading dough, not losing it!\\n\\nThe humor comes from the unexpected shift in meaning for the word \"dough.\"'}),), interrupts=()),\n",
       " StateSnapshot(values={'topic': 'pizza'}, next=('generate_joke',), config={'configurable': {'thread_id': '1', 'checkpoint_ns': '', 'checkpoint_id': '1f09204c-e71e-6307-8000-430d501edfa8'}}, metadata={'source': 'loop', 'step': 0, 'parents': {}}, created_at='2025-09-15T07:22:58.957877+00:00', parent_config={'configurable': {'thread_id': '1', 'checkpoint_ns': '', 'checkpoint_id': '1f09204c-e70e-6d9e-bfff-951f6996a599'}}, tasks=(PregelTask(id='dab26620-eb52-9583-8fb9-729199d315fb', name='generate_joke', path=('__pregel_pull', 'generate_joke'), error=None, interrupts=(), state=None, result={'joke': 'Why did the pizza maker go broke?\\n\\nBecause he kneaded all his dough!'}),), interrupts=()),\n",
       " StateSnapshot(values={}, next=('__start__',), config={'configurable': {'thread_id': '1', 'checkpoint_ns': '', 'checkpoint_id': '1f09204c-e70e-6d9e-bfff-951f6996a599'}}, metadata={'source': 'input', 'step': -1, 'parents': {}}, created_at='2025-09-15T07:22:58.951634+00:00', parent_config=None, tasks=(PregelTask(id='1ec71fa1-65ec-eaa4-adc0-e1461c7a963e', name='__start__', path=('__pregel_pull', '__start__'), error=None, interrupts=(), state=None, result={'topic': 'pizza'}),), interrupts=())]"
      ]
     },
     "execution_count": 11,
     "metadata": {},
     "output_type": "execute_result"
    }
   ],
   "source": [
    "list(workflow.get_state_history(config1))"
   ]
  },
  {
   "cell_type": "code",
   "execution_count": 12,
   "id": "93e7f311",
   "metadata": {},
   "outputs": [
    {
     "data": {
      "text/plain": [
       "{'topic': 'pasta',\n",
       " 'joke': \"Why did the pasta get sent to the principal's office?\\n\\nBecause it was an **impasta**!\",\n",
       " 'explanation': 'This is a classic **pun** joke! Here\\'s the breakdown:\\n\\n1.  **The Setup:** \"Why did the pasta get sent to the principal\\'s office?\"\\n    *   Getting sent to the principal\\'s office implies someone did something wrong, was misbehaving, or was being deceitful.\\n    *   The absurdity is that pasta is an inanimate food item and can\\'t actually do any of these things. This immediately signals that the answer will be wordplay.\\n\\n2.  **The Punchline:** \"Because it was an **impasta**!\"\\n\\n3.  **The Pun:**\\n    *   The word \"**impasta**\" sounds almost exactly like \"**imposter**.\"\\n    *   An **imposter** is someone who pretends to be someone else to deceive others, or someone who is not genuinely what they claim to be – essentially, a fake.\\n\\nSo, the joke works by:\\n*   Playing on the sound-alike words \"impasta\" and \"imposter.\"\\n*   Creating a humorous, absurd image of pasta getting in trouble for being a \"fake\" or \"deceitful\" pasta, just like an imposter person would.\\n\\nIt\\'s funny because it\\'s unexpected, clever, and a bit silly!'}"
      ]
     },
     "execution_count": 12,
     "metadata": {},
     "output_type": "execute_result"
    }
   ],
   "source": [
    "config2 = {\"configurable\": {\"thread_id\": \"2\"}}\n",
    "workflow.invoke({'topic':'pasta'}, config=config2)"
   ]
  },
  {
   "cell_type": "code",
   "execution_count": 13,
   "id": "86cadaa2",
   "metadata": {},
   "outputs": [
    {
     "data": {
      "text/plain": [
       "StateSnapshot(values={'topic': 'pasta', 'joke': \"Why did the pasta get sent to the principal's office?\\n\\nBecause it was an **impasta**!\", 'explanation': 'This is a classic **pun** joke! Here\\'s the breakdown:\\n\\n1.  **The Setup:** \"Why did the pasta get sent to the principal\\'s office?\"\\n    *   Getting sent to the principal\\'s office implies someone did something wrong, was misbehaving, or was being deceitful.\\n    *   The absurdity is that pasta is an inanimate food item and can\\'t actually do any of these things. This immediately signals that the answer will be wordplay.\\n\\n2.  **The Punchline:** \"Because it was an **impasta**!\"\\n\\n3.  **The Pun:**\\n    *   The word \"**impasta**\" sounds almost exactly like \"**imposter**.\"\\n    *   An **imposter** is someone who pretends to be someone else to deceive others, or someone who is not genuinely what they claim to be – essentially, a fake.\\n\\nSo, the joke works by:\\n*   Playing on the sound-alike words \"impasta\" and \"imposter.\"\\n*   Creating a humorous, absurd image of pasta getting in trouble for being a \"fake\" or \"deceitful\" pasta, just like an imposter person would.\\n\\nIt\\'s funny because it\\'s unexpected, clever, and a bit silly!'}, next=(), config={'configurable': {'thread_id': '2', 'checkpoint_ns': '', 'checkpoint_id': '1f092050-967b-6bc5-8002-c78f3c7eaec0'}}, metadata={'source': 'loop', 'step': 2, 'parents': {}}, created_at='2025-09-15T07:24:37.876813+00:00', parent_config={'configurable': {'thread_id': '2', 'checkpoint_ns': '', 'checkpoint_id': '1f092050-25d7-6daf-8001-a705d1aac94a'}}, tasks=(), interrupts=())"
      ]
     },
     "execution_count": 13,
     "metadata": {},
     "output_type": "execute_result"
    }
   ],
   "source": [
    "workflow.get_state(config2)"
   ]
  },
  {
   "cell_type": "code",
   "execution_count": 14,
   "id": "586f7b8a",
   "metadata": {},
   "outputs": [
    {
     "data": {
      "text/plain": [
       "[StateSnapshot(values={'topic': 'pasta', 'joke': \"Why did the pasta get sent to the principal's office?\\n\\nBecause it was an **impasta**!\", 'explanation': 'This is a classic **pun** joke! Here\\'s the breakdown:\\n\\n1.  **The Setup:** \"Why did the pasta get sent to the principal\\'s office?\"\\n    *   Getting sent to the principal\\'s office implies someone did something wrong, was misbehaving, or was being deceitful.\\n    *   The absurdity is that pasta is an inanimate food item and can\\'t actually do any of these things. This immediately signals that the answer will be wordplay.\\n\\n2.  **The Punchline:** \"Because it was an **impasta**!\"\\n\\n3.  **The Pun:**\\n    *   The word \"**impasta**\" sounds almost exactly like \"**imposter**.\"\\n    *   An **imposter** is someone who pretends to be someone else to deceive others, or someone who is not genuinely what they claim to be – essentially, a fake.\\n\\nSo, the joke works by:\\n*   Playing on the sound-alike words \"impasta\" and \"imposter.\"\\n*   Creating a humorous, absurd image of pasta getting in trouble for being a \"fake\" or \"deceitful\" pasta, just like an imposter person would.\\n\\nIt\\'s funny because it\\'s unexpected, clever, and a bit silly!'}, next=(), config={'configurable': {'thread_id': '2', 'checkpoint_ns': '', 'checkpoint_id': '1f092050-967b-6bc5-8002-c78f3c7eaec0'}}, metadata={'source': 'loop', 'step': 2, 'parents': {}}, created_at='2025-09-15T07:24:37.876813+00:00', parent_config={'configurable': {'thread_id': '2', 'checkpoint_ns': '', 'checkpoint_id': '1f092050-25d7-6daf-8001-a705d1aac94a'}}, tasks=(), interrupts=()),\n",
       " StateSnapshot(values={'topic': 'pasta', 'joke': \"Why did the pasta get sent to the principal's office?\\n\\nBecause it was an **impasta**!\"}, next=('generate_explanation',), config={'configurable': {'thread_id': '2', 'checkpoint_ns': '', 'checkpoint_id': '1f092050-25d7-6daf-8001-a705d1aac94a'}}, metadata={'source': 'loop', 'step': 1, 'parents': {}}, created_at='2025-09-15T07:24:26.065811+00:00', parent_config={'configurable': {'thread_id': '2', 'checkpoint_ns': '', 'checkpoint_id': '1f09204e-ded7-6490-8000-f9dbbdb7b912'}}, tasks=(PregelTask(id='d35c0ba7-5e91-2faf-606e-b7a350b8c6bd', name='generate_explanation', path=('__pregel_pull', 'generate_explanation'), error=None, interrupts=(), state=None, result={'explanation': 'This is a classic **pun** joke! Here\\'s the breakdown:\\n\\n1.  **The Setup:** \"Why did the pasta get sent to the principal\\'s office?\"\\n    *   Getting sent to the principal\\'s office implies someone did something wrong, was misbehaving, or was being deceitful.\\n    *   The absurdity is that pasta is an inanimate food item and can\\'t actually do any of these things. This immediately signals that the answer will be wordplay.\\n\\n2.  **The Punchline:** \"Because it was an **impasta**!\"\\n\\n3.  **The Pun:**\\n    *   The word \"**impasta**\" sounds almost exactly like \"**imposter**.\"\\n    *   An **imposter** is someone who pretends to be someone else to deceive others, or someone who is not genuinely what they claim to be – essentially, a fake.\\n\\nSo, the joke works by:\\n*   Playing on the sound-alike words \"impasta\" and \"imposter.\"\\n*   Creating a humorous, absurd image of pasta getting in trouble for being a \"fake\" or \"deceitful\" pasta, just like an imposter person would.\\n\\nIt\\'s funny because it\\'s unexpected, clever, and a bit silly!'}),), interrupts=()),\n",
       " StateSnapshot(values={'topic': 'pasta'}, next=('generate_joke',), config={'configurable': {'thread_id': '2', 'checkpoint_ns': '', 'checkpoint_id': '1f09204e-ded7-6490-8000-f9dbbdb7b912'}}, metadata={'source': 'loop', 'step': 0, 'parents': {}}, created_at='2025-09-15T07:23:51.771827+00:00', parent_config={'configurable': {'thread_id': '2', 'checkpoint_ns': '', 'checkpoint_id': '1f09204e-deb9-60cf-bfff-90a279692ea9'}}, tasks=(PregelTask(id='36f1cc9b-b559-4ffa-1874-6cf3cb543f78', name='generate_joke', path=('__pregel_pull', 'generate_joke'), error=None, interrupts=(), state=None, result={'joke': \"Why did the pasta get sent to the principal's office?\\n\\nBecause it was an **impasta**!\"}),), interrupts=()),\n",
       " StateSnapshot(values={}, next=('__start__',), config={'configurable': {'thread_id': '2', 'checkpoint_ns': '', 'checkpoint_id': '1f09204e-deb9-60cf-bfff-90a279692ea9'}}, metadata={'source': 'input', 'step': -1, 'parents': {}}, created_at='2025-09-15T07:23:51.764718+00:00', parent_config=None, tasks=(PregelTask(id='43118458-f9fc-12dd-54e2-63d3cc26d222', name='__start__', path=('__pregel_pull', '__start__'), error=None, interrupts=(), state=None, result={'topic': 'pasta'}),), interrupts=())]"
      ]
     },
     "execution_count": 14,
     "metadata": {},
     "output_type": "execute_result"
    }
   ],
   "source": [
    "list(workflow.get_state_history(config2))"
   ]
  },
  {
   "cell_type": "markdown",
   "id": "5d99baa6",
   "metadata": {},
   "source": [
    "### Time Travel"
   ]
  },
  {
   "cell_type": "code",
   "execution_count": 21,
   "id": "1cd65ebf",
   "metadata": {},
   "outputs": [
    {
     "data": {
      "text/plain": [
       "StateSnapshot(values={'topic': 'pizza'}, next=('generate_joke',), config={'configurable': {'thread_id': '1', 'checkpoint_id': '1f09204c-e71e-6307-8000-430d501edfa8'}}, metadata={'source': 'loop', 'step': 0, 'parents': {}}, created_at='2025-09-15T07:22:58.957877+00:00', parent_config={'configurable': {'thread_id': '1', 'checkpoint_ns': '', 'checkpoint_id': '1f09204c-e70e-6d9e-bfff-951f6996a599'}}, tasks=(PregelTask(id='dab26620-eb52-9583-8fb9-729199d315fb', name='generate_joke', path=('__pregel_pull', 'generate_joke'), error=None, interrupts=(), state=None, result={'joke': 'Why did the pizza maker go broke?\\n\\nBecause he kneaded all his dough!'}),), interrupts=())"
      ]
     },
     "execution_count": 21,
     "metadata": {},
     "output_type": "execute_result"
    }
   ],
   "source": [
    "workflow.get_state({'configurable': {'thread_id': '1', 'checkpoint_id': '1f09204c-e71e-6307-8000-430d501edfa8'}})"
   ]
  },
  {
   "cell_type": "code",
   "execution_count": 22,
   "id": "6e92279e",
   "metadata": {},
   "outputs": [
    {
     "data": {
      "text/plain": [
       "{'topic': 'pizza',\n",
       " 'joke': 'Why did the pizza chef break up with the cheese?\\n\\nHe said he just needed some **pizza** and quiet!',\n",
       " 'explanation': 'This joke is a classic **pun**, playing on words that sound similar but have different meanings.\\n\\nHere\\'s the breakdown:\\n\\n1.  **The Common Phrase:** When someone wants some alone time, relaxation, or a break from a stressful situation (like a breakup), they often say they need some \"**peace and quiet**.\"\\n2.  **The Wordplay:** The word \"**pizza**\" sounds almost exactly like \"**peace**.\"\\n3.  **The Context:** Since the character is a \"pizza chef,\" it\\'s a clever (and cheesy!) way to substitute \"peace\" with \"pizza\" in the familiar idiom.\\n\\nSo, instead of saying he needed \"peace and quiet\" after breaking up with the cheese, he says he needed \"**pizza** and quiet,\" making a food-related joke out of a common sentiment. It\\'s funny because it\\'s unexpected, uses wordplay, and fits the character\\'s profession perfectly!'}"
      ]
     },
     "execution_count": 22,
     "metadata": {},
     "output_type": "execute_result"
    }
   ],
   "source": [
    "workflow.invoke(None, {'configurable': {'thread_id': '1', 'checkpoint_id': '1f09204c-e71e-6307-8000-430d501edfa8'}})"
   ]
  },
  {
   "cell_type": "code",
   "execution_count": 23,
   "id": "253e9a00",
   "metadata": {},
   "outputs": [
    {
     "data": {
      "text/plain": [
       "[StateSnapshot(values={'topic': 'pizza', 'joke': 'Why did the pizza chef break up with the cheese?\\n\\nHe said he just needed some **pizza** and quiet!', 'explanation': 'This joke is a classic **pun**, playing on words that sound similar but have different meanings.\\n\\nHere\\'s the breakdown:\\n\\n1.  **The Common Phrase:** When someone wants some alone time, relaxation, or a break from a stressful situation (like a breakup), they often say they need some \"**peace and quiet**.\"\\n2.  **The Wordplay:** The word \"**pizza**\" sounds almost exactly like \"**peace**.\"\\n3.  **The Context:** Since the character is a \"pizza chef,\" it\\'s a clever (and cheesy!) way to substitute \"peace\" with \"pizza\" in the familiar idiom.\\n\\nSo, instead of saying he needed \"peace and quiet\" after breaking up with the cheese, he says he needed \"**pizza** and quiet,\" making a food-related joke out of a common sentiment. It\\'s funny because it\\'s unexpected, uses wordplay, and fits the character\\'s profession perfectly!'}, next=(), config={'configurable': {'thread_id': '1', 'checkpoint_ns': '', 'checkpoint_id': '1f092062-4a0d-623a-8002-ce1f74e2b88f'}}, metadata={'source': 'loop', 'step': 2, 'parents': {}}, created_at='2025-09-15T07:32:33.046308+00:00', parent_config={'configurable': {'thread_id': '1', 'checkpoint_ns': '', 'checkpoint_id': '1f092061-e2f1-64cc-8001-932a235a9416'}}, tasks=(), interrupts=()),\n",
       " StateSnapshot(values={'topic': 'pizza', 'joke': 'Why did the pizza chef break up with the cheese?\\n\\nHe said he just needed some **pizza** and quiet!'}, next=('generate_explanation',), config={'configurable': {'thread_id': '1', 'checkpoint_ns': '', 'checkpoint_id': '1f092061-e2f1-64cc-8001-932a235a9416'}}, metadata={'source': 'loop', 'step': 1, 'parents': {}}, created_at='2025-09-15T07:32:22.234546+00:00', parent_config={'configurable': {'thread_id': '1', 'checkpoint_ns': '', 'checkpoint_id': '1f09204c-e71e-6307-8000-430d501edfa8'}}, tasks=(PregelTask(id='7b1b982d-58bc-5c11-9115-266430cc2eda', name='generate_explanation', path=('__pregel_pull', 'generate_explanation'), error=None, interrupts=(), state=None, result={'explanation': 'This joke is a classic **pun**, playing on words that sound similar but have different meanings.\\n\\nHere\\'s the breakdown:\\n\\n1.  **The Common Phrase:** When someone wants some alone time, relaxation, or a break from a stressful situation (like a breakup), they often say they need some \"**peace and quiet**.\"\\n2.  **The Wordplay:** The word \"**pizza**\" sounds almost exactly like \"**peace**.\"\\n3.  **The Context:** Since the character is a \"pizza chef,\" it\\'s a clever (and cheesy!) way to substitute \"peace\" with \"pizza\" in the familiar idiom.\\n\\nSo, instead of saying he needed \"peace and quiet\" after breaking up with the cheese, he says he needed \"**pizza** and quiet,\" making a food-related joke out of a common sentiment. It\\'s funny because it\\'s unexpected, uses wordplay, and fits the character\\'s profession perfectly!'}),), interrupts=()),\n",
       " StateSnapshot(values={}, next=('generate_joke',), config={'configurable': {'thread_id': '1', 'checkpoint_ns': '', 'checkpoint_id': '1f09205b-86fb-6d13-8000-09d3a971ec56'}}, metadata={'source': 'loop', 'step': 0, 'parents': {}}, created_at='2025-09-15T07:29:31.530731+00:00', parent_config={'configurable': {'thread_id': '1', 'checkpoint_ns': '', 'checkpoint_id': '1f09205b-86f0-6187-bfff-01d6d19a494b'}}, tasks=(PregelTask(id='580c8f8a-c678-47fe-6351-12b3a948a890', name='generate_joke', path=('__pregel_pull', 'generate_joke'), error=\"KeyError('topic')\", interrupts=(), state=None, result=None),), interrupts=()),\n",
       " StateSnapshot(values={}, next=('__start__',), config={'configurable': {'thread_id': '1', 'checkpoint_ns': '', 'checkpoint_id': '1f09205b-86f0-6187-bfff-01d6d19a494b'}}, metadata={'source': 'input', 'step': -1, 'parents': {}}, created_at='2025-09-15T07:29:31.525881+00:00', parent_config={'configurable': {'thread_id': '1', 'checkpoint_ns': '', 'checkpoint_id': '1f09070b-232c-60f6-8000-c664f60b4c85'}}, tasks=(PregelTask(id='5857efee-73f1-7894-80a4-8aeab0c4f553', name='__start__', path=('__pregel_pull', '__start__'), error=None, interrupts=(), state=None, result={}),), interrupts=()),\n",
       " StateSnapshot(values={'topic': 'pizza', 'joke': 'Why did the pizza maker go broke?\\n\\nBecause he kneaded all his dough!', 'explanation': 'This joke is a classic **pun**, playing on the double meaning of the word **\"dough\"**.\\n\\nHere\\'s the breakdown:\\n\\n1.  **\"Dough\" (Meaning 1 - Literal):** In the context of a pizza maker, \"dough\" refers to the mixture of flour, water, and yeast that you knead (work with your hands) to make the pizza crust. A pizza maker literally kneads a lot of dough every day.\\n\\n2.  **\"Dough\" (Meaning 2 - Slang):** \"Dough\" is also a common slang term for **money**.\\n\\nThe joke works by setting up the expectation of a business failure (\"Why did the pizza maker go broke?\"). The punchline then uses the literal action of a pizza maker (\"he kneaded all his dough\") but intends for you to interpret \"dough\" in its slang meaning of \"money.\"\\n\\nSo, the joke implies:\\n*   He went broke because he literally spent/used up all his **money** (his \"dough\").\\n*   It\\'s a humorous twist because a pizza maker *should* be making money from kneading dough, not losing it!\\n\\nThe humor comes from the unexpected shift in meaning for the word \"dough.\"'}, next=(), config={'configurable': {'thread_id': '1', 'checkpoint_ns': '', 'checkpoint_id': '1f09204e-0892-6a04-8002-25ad68e25a80'}}, metadata={'source': 'loop', 'step': 2, 'parents': {}}, created_at='2025-09-15T07:23:29.309478+00:00', parent_config={'configurable': {'thread_id': '1', 'checkpoint_ns': '', 'checkpoint_id': '1f09204d-53df-6611-8001-d987252d24e1'}}, tasks=(), interrupts=()),\n",
       " StateSnapshot(values={'topic': 'pizza', 'joke': 'Why did the pizza maker go broke?\\n\\nBecause he kneaded all his dough!'}, next=('generate_explanation',), config={'configurable': {'thread_id': '1', 'checkpoint_ns': '', 'checkpoint_id': '1f09204d-53df-6611-8001-d987252d24e1'}}, metadata={'source': 'loop', 'step': 1, 'parents': {}}, created_at='2025-09-15T07:23:10.361687+00:00', parent_config={'configurable': {'thread_id': '1', 'checkpoint_ns': '', 'checkpoint_id': '1f09204c-e71e-6307-8000-430d501edfa8'}}, tasks=(PregelTask(id='b24927f2-2730-6181-3b00-cd20e55bc5b3', name='generate_explanation', path=('__pregel_pull', 'generate_explanation'), error=None, interrupts=(), state=None, result={'explanation': 'This joke is a classic **pun**, playing on the double meaning of the word **\"dough\"**.\\n\\nHere\\'s the breakdown:\\n\\n1.  **\"Dough\" (Meaning 1 - Literal):** In the context of a pizza maker, \"dough\" refers to the mixture of flour, water, and yeast that you knead (work with your hands) to make the pizza crust. A pizza maker literally kneads a lot of dough every day.\\n\\n2.  **\"Dough\" (Meaning 2 - Slang):** \"Dough\" is also a common slang term for **money**.\\n\\nThe joke works by setting up the expectation of a business failure (\"Why did the pizza maker go broke?\"). The punchline then uses the literal action of a pizza maker (\"he kneaded all his dough\") but intends for you to interpret \"dough\" in its slang meaning of \"money.\"\\n\\nSo, the joke implies:\\n*   He went broke because he literally spent/used up all his **money** (his \"dough\").\\n*   It\\'s a humorous twist because a pizza maker *should* be making money from kneading dough, not losing it!\\n\\nThe humor comes from the unexpected shift in meaning for the word \"dough.\"'}),), interrupts=()),\n",
       " StateSnapshot(values={'topic': 'pizza'}, next=('generate_joke',), config={'configurable': {'thread_id': '1', 'checkpoint_ns': '', 'checkpoint_id': '1f09204c-e71e-6307-8000-430d501edfa8'}}, metadata={'source': 'loop', 'step': 0, 'parents': {}}, created_at='2025-09-15T07:22:58.957877+00:00', parent_config={'configurable': {'thread_id': '1', 'checkpoint_ns': '', 'checkpoint_id': '1f09204c-e70e-6d9e-bfff-951f6996a599'}}, tasks=(PregelTask(id='dab26620-eb52-9583-8fb9-729199d315fb', name='generate_joke', path=('__pregel_pull', 'generate_joke'), error=None, interrupts=(), state=None, result={'joke': 'Why did the pizza maker go broke?\\n\\nBecause he kneaded all his dough!'}),), interrupts=()),\n",
       " StateSnapshot(values={}, next=('__start__',), config={'configurable': {'thread_id': '1', 'checkpoint_ns': '', 'checkpoint_id': '1f09204c-e70e-6d9e-bfff-951f6996a599'}}, metadata={'source': 'input', 'step': -1, 'parents': {}}, created_at='2025-09-15T07:22:58.951634+00:00', parent_config=None, tasks=(PregelTask(id='1ec71fa1-65ec-eaa4-adc0-e1461c7a963e', name='__start__', path=('__pregel_pull', '__start__'), error=None, interrupts=(), state=None, result={'topic': 'pizza'}),), interrupts=())]"
      ]
     },
     "execution_count": 23,
     "metadata": {},
     "output_type": "execute_result"
    }
   ],
   "source": [
    "list(workflow.get_state_history(config1))"
   ]
  },
  {
   "cell_type": "markdown",
   "id": "622542c1",
   "metadata": {},
   "source": [
    "### Updating State"
   ]
  },
  {
   "cell_type": "code",
   "execution_count": 24,
   "id": "0ff38a4a",
   "metadata": {},
   "outputs": [
    {
     "data": {
      "text/plain": [
       "{'configurable': {'thread_id': '1',\n",
       "  'checkpoint_ns': '',\n",
       "  'checkpoint_id': '1f092072-c84e-6a97-8001-0e0c32102045'}}"
      ]
     },
     "execution_count": 24,
     "metadata": {},
     "output_type": "execute_result"
    }
   ],
   "source": [
    "workflow.update_state({'configurable': {'thread_id': '1', 'checkpoint_id': '1f09204c-e71e-6307-8000-430d501edfa8', 'checkpoint_ns': \"\"}}, {'topic': 'samosa'})"
   ]
  },
  {
   "cell_type": "code",
   "execution_count": 27,
   "id": "98ba6553",
   "metadata": {},
   "outputs": [
    {
     "data": {
      "text/plain": [
       "[StateSnapshot(values={'topic': 'samosa', 'joke': \"Here are a few samosa jokes for you:\\n\\n1.  Why did the samosa get a promotion? Because it was outstanding in its **field** (of potatoes and peas)!\\n\\n2.  What's a samosa's favorite subject in school? **Tri-gonometry!**\\n\\n3.  Why did the samosa need therapy? It had too many **filling** issues.\\n\\n4.  I tried to make a joke about samosas, but it just wasn't very **filling**.\\n\\n5.  What do you call a samosa that tells jokes? A **spicy** comedian!\", 'explanation': 'These samosa jokes are all examples of **puns** and **wordplay**, where words or phrases that sound alike or have multiple meanings are used in a humorous way.\\n\\nLet\\'s break them down:\\n\\n1.  **Why did the samosa get a promotion? Because it was outstanding in its field (of potatoes and peas)!**\\n    *   **The Joke:** This plays on the phrase \"outstanding in its field.\"\\n    *   **The Wordplay:**\\n        *   **\"Outstanding in its field\" (common meaning):** Someone is exceptionally good or highly skilled in their area of work or expertise.\\n        *   **\"Outstanding in its field\" (samosa meaning):** A samosa is literally *filled* with ingredients like potatoes and peas. So, its \"field\" refers to the literal contents inside it, and it\\'s \"outstanding\" because it stands out as a delicious item *within* that filling.\\n\\n2.  **What\\'s a samosa\\'s favorite subject in school? Tri-gonometry!**\\n    *   **The Joke:** This is a visual pun based on the shape of a samosa.\\n    *   **The Wordplay:**\\n        *   **\"Trigonometry\":** A branch of mathematics that deals with the relationships between the sides and angles of *triangles*.\\n        *   **Samosa Connection:** Samosas are traditionally *triangular* in shape. The \"tri\" in trigonometry directly relates to the \"tri\" (triangle) of the samosa.\\n\\n3.  **Why did the samosa need therapy? It had too many filling issues.**\\n    *   **The Joke:** This is a pun based on homophones (words that sound alike but have different meanings).\\n    *   **The Wordplay:**\\n        *   **\"Filling issues\" (samosa meaning):** A samosa literally has a \"filling\" (the mixture inside it). \"Filling issues\" would refer to problems with its internal contents (e.g., too much, not enough, wrong ingredients).\\n        *   **\"Feeling issues\" (common meaning, especially in therapy):** Sounds like \"filling issues,\" and refers to emotional problems, difficulties, or mental health struggles. The humor comes from applying a human emotional problem to a food item.\\n\\n4.  **I tried to make a joke about samosas, but it just wasn\\'t very filling.**\\n    *   **The Joke:** This is a self-deprecating joke that uses a double meaning of \"filling.\"\\n    *   **The Wordplay:**\\n        *   **\"Not very filling\" (food meaning):** A food item that doesn\\'t make you feel full or satisfied.\\n        *   **\"Not very filling\" (joke meaning):** A joke that isn\\'t very substantial, satisfying, or funny. The joke itself admits it\\'s not very good by using a characteristic of the food it\\'s about.\\n\\n5.  **What do you call a samosa that tells jokes? A spicy comedian!**\\n    *   **The Joke:** This plays on the double meaning of \"spicy.\"\\n    *   **The Wordplay:**\\n        *   **\"Spicy\" (samosa meaning):** Samosas are often seasoned with various spices (chili, ginger, garam masala, etc.), making them literally \"spicy\" in flavor.\\n        *   **\"Spicy\" (comedian meaning):** A comedian who is bold, edgy, provocative, or has a lot of energetic \"zing\" in their performance. The joke combines the literal characteristic of the samosa with the figurative characteristic of a comedian.\\n\\nAll these jokes rely on finding clever connections between the literal attributes of a samosa (its shape, its filling, its spice) and common phrases or concepts, creating unexpected and humorous twists.'}, next=(), config={'configurable': {'thread_id': '1', 'checkpoint_ns': '', 'checkpoint_id': '1f09207d-991d-6307-8003-e472468711f5'}}, metadata={'source': 'loop', 'step': 3, 'parents': {}}, created_at='2025-09-15T07:44:46.112363+00:00', parent_config={'configurable': {'thread_id': '1', 'checkpoint_ns': '', 'checkpoint_id': '1f09207c-e9e9-689c-8002-ae99c6341dd9'}}, tasks=(), interrupts=()),\n",
       " StateSnapshot(values={'topic': 'samosa', 'joke': \"Here are a few samosa jokes for you:\\n\\n1.  Why did the samosa get a promotion? Because it was outstanding in its **field** (of potatoes and peas)!\\n\\n2.  What's a samosa's favorite subject in school? **Tri-gonometry!**\\n\\n3.  Why did the samosa need therapy? It had too many **filling** issues.\\n\\n4.  I tried to make a joke about samosas, but it just wasn't very **filling**.\\n\\n5.  What do you call a samosa that tells jokes? A **spicy** comedian!\"}, next=('generate_explanation',), config={'configurable': {'thread_id': '1', 'checkpoint_ns': '', 'checkpoint_id': '1f09207c-e9e9-689c-8002-ae99c6341dd9'}}, metadata={'source': 'loop', 'step': 2, 'parents': {}}, created_at='2025-09-15T07:44:27.741130+00:00', parent_config={'configurable': {'thread_id': '1', 'checkpoint_ns': '', 'checkpoint_id': '1f092072-c84e-6a97-8001-0e0c32102045'}}, tasks=(PregelTask(id='cc31b3e9-2d1d-9ed5-f9a1-ca7d4e6c90f1', name='generate_explanation', path=('__pregel_pull', 'generate_explanation'), error=None, interrupts=(), state=None, result={'explanation': 'These samosa jokes are all examples of **puns** and **wordplay**, where words or phrases that sound alike or have multiple meanings are used in a humorous way.\\n\\nLet\\'s break them down:\\n\\n1.  **Why did the samosa get a promotion? Because it was outstanding in its field (of potatoes and peas)!**\\n    *   **The Joke:** This plays on the phrase \"outstanding in its field.\"\\n    *   **The Wordplay:**\\n        *   **\"Outstanding in its field\" (common meaning):** Someone is exceptionally good or highly skilled in their area of work or expertise.\\n        *   **\"Outstanding in its field\" (samosa meaning):** A samosa is literally *filled* with ingredients like potatoes and peas. So, its \"field\" refers to the literal contents inside it, and it\\'s \"outstanding\" because it stands out as a delicious item *within* that filling.\\n\\n2.  **What\\'s a samosa\\'s favorite subject in school? Tri-gonometry!**\\n    *   **The Joke:** This is a visual pun based on the shape of a samosa.\\n    *   **The Wordplay:**\\n        *   **\"Trigonometry\":** A branch of mathematics that deals with the relationships between the sides and angles of *triangles*.\\n        *   **Samosa Connection:** Samosas are traditionally *triangular* in shape. The \"tri\" in trigonometry directly relates to the \"tri\" (triangle) of the samosa.\\n\\n3.  **Why did the samosa need therapy? It had too many filling issues.**\\n    *   **The Joke:** This is a pun based on homophones (words that sound alike but have different meanings).\\n    *   **The Wordplay:**\\n        *   **\"Filling issues\" (samosa meaning):** A samosa literally has a \"filling\" (the mixture inside it). \"Filling issues\" would refer to problems with its internal contents (e.g., too much, not enough, wrong ingredients).\\n        *   **\"Feeling issues\" (common meaning, especially in therapy):** Sounds like \"filling issues,\" and refers to emotional problems, difficulties, or mental health struggles. The humor comes from applying a human emotional problem to a food item.\\n\\n4.  **I tried to make a joke about samosas, but it just wasn\\'t very filling.**\\n    *   **The Joke:** This is a self-deprecating joke that uses a double meaning of \"filling.\"\\n    *   **The Wordplay:**\\n        *   **\"Not very filling\" (food meaning):** A food item that doesn\\'t make you feel full or satisfied.\\n        *   **\"Not very filling\" (joke meaning):** A joke that isn\\'t very substantial, satisfying, or funny. The joke itself admits it\\'s not very good by using a characteristic of the food it\\'s about.\\n\\n5.  **What do you call a samosa that tells jokes? A spicy comedian!**\\n    *   **The Joke:** This plays on the double meaning of \"spicy.\"\\n    *   **The Wordplay:**\\n        *   **\"Spicy\" (samosa meaning):** Samosas are often seasoned with various spices (chili, ginger, garam masala, etc.), making them literally \"spicy\" in flavor.\\n        *   **\"Spicy\" (comedian meaning):** A comedian who is bold, edgy, provocative, or has a lot of energetic \"zing\" in their performance. The joke combines the literal characteristic of the samosa with the figurative characteristic of a comedian.\\n\\nAll these jokes rely on finding clever connections between the literal attributes of a samosa (its shape, its filling, its spice) and common phrases or concepts, creating unexpected and humorous twists.'}),), interrupts=()),\n",
       " StateSnapshot(values={'topic': 'samosa'}, next=('generate_joke',), config={'configurable': {'thread_id': '1', 'checkpoint_ns': '', 'checkpoint_id': '1f092072-c84e-6a97-8001-0e0c32102045'}}, metadata={'source': 'update', 'step': 1, 'parents': {}}, created_at='2025-09-15T07:39:55.781881+00:00', parent_config={'configurable': {'thread_id': '1', 'checkpoint_ns': '', 'checkpoint_id': '1f09204c-e71e-6307-8000-430d501edfa8'}}, tasks=(PregelTask(id='17e578e2-eff6-5862-f5e2-17bbdfcd922a', name='generate_joke', path=('__pregel_pull', 'generate_joke'), error=None, interrupts=(), state=None, result={'joke': \"Here are a few samosa jokes for you:\\n\\n1.  Why did the samosa get a promotion? Because it was outstanding in its **field** (of potatoes and peas)!\\n\\n2.  What's a samosa's favorite subject in school? **Tri-gonometry!**\\n\\n3.  Why did the samosa need therapy? It had too many **filling** issues.\\n\\n4.  I tried to make a joke about samosas, but it just wasn't very **filling**.\\n\\n5.  What do you call a samosa that tells jokes? A **spicy** comedian!\"}),), interrupts=()),\n",
       " StateSnapshot(values={'topic': 'pizza', 'joke': 'Why did the pizza chef break up with the cheese?\\n\\nHe said he just needed some **pizza** and quiet!', 'explanation': 'This joke is a classic **pun**, playing on words that sound similar but have different meanings.\\n\\nHere\\'s the breakdown:\\n\\n1.  **The Common Phrase:** When someone wants some alone time, relaxation, or a break from a stressful situation (like a breakup), they often say they need some \"**peace and quiet**.\"\\n2.  **The Wordplay:** The word \"**pizza**\" sounds almost exactly like \"**peace**.\"\\n3.  **The Context:** Since the character is a \"pizza chef,\" it\\'s a clever (and cheesy!) way to substitute \"peace\" with \"pizza\" in the familiar idiom.\\n\\nSo, instead of saying he needed \"peace and quiet\" after breaking up with the cheese, he says he needed \"**pizza** and quiet,\" making a food-related joke out of a common sentiment. It\\'s funny because it\\'s unexpected, uses wordplay, and fits the character\\'s profession perfectly!'}, next=(), config={'configurable': {'thread_id': '1', 'checkpoint_ns': '', 'checkpoint_id': '1f092062-4a0d-623a-8002-ce1f74e2b88f'}}, metadata={'source': 'loop', 'step': 2, 'parents': {}}, created_at='2025-09-15T07:32:33.046308+00:00', parent_config={'configurable': {'thread_id': '1', 'checkpoint_ns': '', 'checkpoint_id': '1f092061-e2f1-64cc-8001-932a235a9416'}}, tasks=(), interrupts=()),\n",
       " StateSnapshot(values={'topic': 'pizza', 'joke': 'Why did the pizza chef break up with the cheese?\\n\\nHe said he just needed some **pizza** and quiet!'}, next=('generate_explanation',), config={'configurable': {'thread_id': '1', 'checkpoint_ns': '', 'checkpoint_id': '1f092061-e2f1-64cc-8001-932a235a9416'}}, metadata={'source': 'loop', 'step': 1, 'parents': {}}, created_at='2025-09-15T07:32:22.234546+00:00', parent_config={'configurable': {'thread_id': '1', 'checkpoint_ns': '', 'checkpoint_id': '1f09204c-e71e-6307-8000-430d501edfa8'}}, tasks=(PregelTask(id='7b1b982d-58bc-5c11-9115-266430cc2eda', name='generate_explanation', path=('__pregel_pull', 'generate_explanation'), error=None, interrupts=(), state=None, result={'explanation': 'This joke is a classic **pun**, playing on words that sound similar but have different meanings.\\n\\nHere\\'s the breakdown:\\n\\n1.  **The Common Phrase:** When someone wants some alone time, relaxation, or a break from a stressful situation (like a breakup), they often say they need some \"**peace and quiet**.\"\\n2.  **The Wordplay:** The word \"**pizza**\" sounds almost exactly like \"**peace**.\"\\n3.  **The Context:** Since the character is a \"pizza chef,\" it\\'s a clever (and cheesy!) way to substitute \"peace\" with \"pizza\" in the familiar idiom.\\n\\nSo, instead of saying he needed \"peace and quiet\" after breaking up with the cheese, he says he needed \"**pizza** and quiet,\" making a food-related joke out of a common sentiment. It\\'s funny because it\\'s unexpected, uses wordplay, and fits the character\\'s profession perfectly!'}),), interrupts=()),\n",
       " StateSnapshot(values={}, next=('generate_joke',), config={'configurable': {'thread_id': '1', 'checkpoint_ns': '', 'checkpoint_id': '1f09205b-86fb-6d13-8000-09d3a971ec56'}}, metadata={'source': 'loop', 'step': 0, 'parents': {}}, created_at='2025-09-15T07:29:31.530731+00:00', parent_config={'configurable': {'thread_id': '1', 'checkpoint_ns': '', 'checkpoint_id': '1f09205b-86f0-6187-bfff-01d6d19a494b'}}, tasks=(PregelTask(id='580c8f8a-c678-47fe-6351-12b3a948a890', name='generate_joke', path=('__pregel_pull', 'generate_joke'), error=\"KeyError('topic')\", interrupts=(), state=None, result=None),), interrupts=()),\n",
       " StateSnapshot(values={}, next=('__start__',), config={'configurable': {'thread_id': '1', 'checkpoint_ns': '', 'checkpoint_id': '1f09205b-86f0-6187-bfff-01d6d19a494b'}}, metadata={'source': 'input', 'step': -1, 'parents': {}}, created_at='2025-09-15T07:29:31.525881+00:00', parent_config={'configurable': {'thread_id': '1', 'checkpoint_ns': '', 'checkpoint_id': '1f09070b-232c-60f6-8000-c664f60b4c85'}}, tasks=(PregelTask(id='5857efee-73f1-7894-80a4-8aeab0c4f553', name='__start__', path=('__pregel_pull', '__start__'), error=None, interrupts=(), state=None, result={}),), interrupts=()),\n",
       " StateSnapshot(values={'topic': 'pizza', 'joke': 'Why did the pizza maker go broke?\\n\\nBecause he kneaded all his dough!', 'explanation': 'This joke is a classic **pun**, playing on the double meaning of the word **\"dough\"**.\\n\\nHere\\'s the breakdown:\\n\\n1.  **\"Dough\" (Meaning 1 - Literal):** In the context of a pizza maker, \"dough\" refers to the mixture of flour, water, and yeast that you knead (work with your hands) to make the pizza crust. A pizza maker literally kneads a lot of dough every day.\\n\\n2.  **\"Dough\" (Meaning 2 - Slang):** \"Dough\" is also a common slang term for **money**.\\n\\nThe joke works by setting up the expectation of a business failure (\"Why did the pizza maker go broke?\"). The punchline then uses the literal action of a pizza maker (\"he kneaded all his dough\") but intends for you to interpret \"dough\" in its slang meaning of \"money.\"\\n\\nSo, the joke implies:\\n*   He went broke because he literally spent/used up all his **money** (his \"dough\").\\n*   It\\'s a humorous twist because a pizza maker *should* be making money from kneading dough, not losing it!\\n\\nThe humor comes from the unexpected shift in meaning for the word \"dough.\"'}, next=(), config={'configurable': {'thread_id': '1', 'checkpoint_ns': '', 'checkpoint_id': '1f09204e-0892-6a04-8002-25ad68e25a80'}}, metadata={'source': 'loop', 'step': 2, 'parents': {}}, created_at='2025-09-15T07:23:29.309478+00:00', parent_config={'configurable': {'thread_id': '1', 'checkpoint_ns': '', 'checkpoint_id': '1f09204d-53df-6611-8001-d987252d24e1'}}, tasks=(), interrupts=()),\n",
       " StateSnapshot(values={'topic': 'pizza', 'joke': 'Why did the pizza maker go broke?\\n\\nBecause he kneaded all his dough!'}, next=('generate_explanation',), config={'configurable': {'thread_id': '1', 'checkpoint_ns': '', 'checkpoint_id': '1f09204d-53df-6611-8001-d987252d24e1'}}, metadata={'source': 'loop', 'step': 1, 'parents': {}}, created_at='2025-09-15T07:23:10.361687+00:00', parent_config={'configurable': {'thread_id': '1', 'checkpoint_ns': '', 'checkpoint_id': '1f09204c-e71e-6307-8000-430d501edfa8'}}, tasks=(PregelTask(id='b24927f2-2730-6181-3b00-cd20e55bc5b3', name='generate_explanation', path=('__pregel_pull', 'generate_explanation'), error=None, interrupts=(), state=None, result={'explanation': 'This joke is a classic **pun**, playing on the double meaning of the word **\"dough\"**.\\n\\nHere\\'s the breakdown:\\n\\n1.  **\"Dough\" (Meaning 1 - Literal):** In the context of a pizza maker, \"dough\" refers to the mixture of flour, water, and yeast that you knead (work with your hands) to make the pizza crust. A pizza maker literally kneads a lot of dough every day.\\n\\n2.  **\"Dough\" (Meaning 2 - Slang):** \"Dough\" is also a common slang term for **money**.\\n\\nThe joke works by setting up the expectation of a business failure (\"Why did the pizza maker go broke?\"). The punchline then uses the literal action of a pizza maker (\"he kneaded all his dough\") but intends for you to interpret \"dough\" in its slang meaning of \"money.\"\\n\\nSo, the joke implies:\\n*   He went broke because he literally spent/used up all his **money** (his \"dough\").\\n*   It\\'s a humorous twist because a pizza maker *should* be making money from kneading dough, not losing it!\\n\\nThe humor comes from the unexpected shift in meaning for the word \"dough.\"'}),), interrupts=()),\n",
       " StateSnapshot(values={'topic': 'pizza'}, next=('generate_joke',), config={'configurable': {'thread_id': '1', 'checkpoint_ns': '', 'checkpoint_id': '1f09204c-e71e-6307-8000-430d501edfa8'}}, metadata={'source': 'loop', 'step': 0, 'parents': {}}, created_at='2025-09-15T07:22:58.957877+00:00', parent_config={'configurable': {'thread_id': '1', 'checkpoint_ns': '', 'checkpoint_id': '1f09204c-e70e-6d9e-bfff-951f6996a599'}}, tasks=(PregelTask(id='dab26620-eb52-9583-8fb9-729199d315fb', name='generate_joke', path=('__pregel_pull', 'generate_joke'), error=None, interrupts=(), state=None, result={'joke': 'Why did the pizza maker go broke?\\n\\nBecause he kneaded all his dough!'}),), interrupts=()),\n",
       " StateSnapshot(values={}, next=('__start__',), config={'configurable': {'thread_id': '1', 'checkpoint_ns': '', 'checkpoint_id': '1f09204c-e70e-6d9e-bfff-951f6996a599'}}, metadata={'source': 'input', 'step': -1, 'parents': {}}, created_at='2025-09-15T07:22:58.951634+00:00', parent_config=None, tasks=(PregelTask(id='1ec71fa1-65ec-eaa4-adc0-e1461c7a963e', name='__start__', path=('__pregel_pull', '__start__'), error=None, interrupts=(), state=None, result={'topic': 'pizza'}),), interrupts=())]"
      ]
     },
     "execution_count": 27,
     "metadata": {},
     "output_type": "execute_result"
    }
   ],
   "source": [
    "list(workflow.get_state_history(config1))"
   ]
  },
  {
   "cell_type": "code",
   "execution_count": 26,
   "id": "16121399",
   "metadata": {},
   "outputs": [
    {
     "data": {
      "text/plain": [
       "{'topic': 'samosa',\n",
       " 'joke': \"Here are a few samosa jokes for you:\\n\\n1.  Why did the samosa get a promotion? Because it was outstanding in its **field** (of potatoes and peas)!\\n\\n2.  What's a samosa's favorite subject in school? **Tri-gonometry!**\\n\\n3.  Why did the samosa need therapy? It had too many **filling** issues.\\n\\n4.  I tried to make a joke about samosas, but it just wasn't very **filling**.\\n\\n5.  What do you call a samosa that tells jokes? A **spicy** comedian!\",\n",
       " 'explanation': 'These samosa jokes are all examples of **puns** and **wordplay**, where words or phrases that sound alike or have multiple meanings are used in a humorous way.\\n\\nLet\\'s break them down:\\n\\n1.  **Why did the samosa get a promotion? Because it was outstanding in its field (of potatoes and peas)!**\\n    *   **The Joke:** This plays on the phrase \"outstanding in its field.\"\\n    *   **The Wordplay:**\\n        *   **\"Outstanding in its field\" (common meaning):** Someone is exceptionally good or highly skilled in their area of work or expertise.\\n        *   **\"Outstanding in its field\" (samosa meaning):** A samosa is literally *filled* with ingredients like potatoes and peas. So, its \"field\" refers to the literal contents inside it, and it\\'s \"outstanding\" because it stands out as a delicious item *within* that filling.\\n\\n2.  **What\\'s a samosa\\'s favorite subject in school? Tri-gonometry!**\\n    *   **The Joke:** This is a visual pun based on the shape of a samosa.\\n    *   **The Wordplay:**\\n        *   **\"Trigonometry\":** A branch of mathematics that deals with the relationships between the sides and angles of *triangles*.\\n        *   **Samosa Connection:** Samosas are traditionally *triangular* in shape. The \"tri\" in trigonometry directly relates to the \"tri\" (triangle) of the samosa.\\n\\n3.  **Why did the samosa need therapy? It had too many filling issues.**\\n    *   **The Joke:** This is a pun based on homophones (words that sound alike but have different meanings).\\n    *   **The Wordplay:**\\n        *   **\"Filling issues\" (samosa meaning):** A samosa literally has a \"filling\" (the mixture inside it). \"Filling issues\" would refer to problems with its internal contents (e.g., too much, not enough, wrong ingredients).\\n        *   **\"Feeling issues\" (common meaning, especially in therapy):** Sounds like \"filling issues,\" and refers to emotional problems, difficulties, or mental health struggles. The humor comes from applying a human emotional problem to a food item.\\n\\n4.  **I tried to make a joke about samosas, but it just wasn\\'t very filling.**\\n    *   **The Joke:** This is a self-deprecating joke that uses a double meaning of \"filling.\"\\n    *   **The Wordplay:**\\n        *   **\"Not very filling\" (food meaning):** A food item that doesn\\'t make you feel full or satisfied.\\n        *   **\"Not very filling\" (joke meaning):** A joke that isn\\'t very substantial, satisfying, or funny. The joke itself admits it\\'s not very good by using a characteristic of the food it\\'s about.\\n\\n5.  **What do you call a samosa that tells jokes? A spicy comedian!**\\n    *   **The Joke:** This plays on the double meaning of \"spicy.\"\\n    *   **The Wordplay:**\\n        *   **\"Spicy\" (samosa meaning):** Samosas are often seasoned with various spices (chili, ginger, garam masala, etc.), making them literally \"spicy\" in flavor.\\n        *   **\"Spicy\" (comedian meaning):** A comedian who is bold, edgy, provocative, or has a lot of energetic \"zing\" in their performance. The joke combines the literal characteristic of the samosa with the figurative characteristic of a comedian.\\n\\nAll these jokes rely on finding clever connections between the literal attributes of a samosa (its shape, its filling, its spice) and common phrases or concepts, creating unexpected and humorous twists.'}"
      ]
     },
     "execution_count": 26,
     "metadata": {},
     "output_type": "execute_result"
    }
   ],
   "source": [
    "workflow.invoke(None, {'configurable': {'thread_id': '1', 'checkpoint_id': '1f092072-c84e-6a97-8001-0e0c32102045'}})"
   ]
  },
  {
   "cell_type": "markdown",
   "id": "a2c5ba67",
   "metadata": {},
   "source": [
    "### Fault Tolerance"
   ]
  },
  {
   "cell_type": "code",
   "execution_count": 38,
   "id": "300f028f",
   "metadata": {},
   "outputs": [],
   "source": [
    "from langgraph.graph import StateGraph, START, END\n",
    "from langgraph.checkpoint.memory import InMemorySaver\n",
    "from typing import TypedDict\n",
    "import time"
   ]
  },
  {
   "cell_type": "code",
   "execution_count": 39,
   "id": "a493471f",
   "metadata": {},
   "outputs": [],
   "source": [
    "# Define the state\n",
    "\n",
    "class CrashState(TypedDict):\n",
    "\n",
    "    input: str\n",
    "    step1: str\n",
    "    step2: str\n",
    "    step3: str"
   ]
  },
  {
   "cell_type": "code",
   "execution_count": 40,
   "id": "a042b1ee",
   "metadata": {},
   "outputs": [],
   "source": [
    "# build states\n",
    "#state1\n",
    "\n",
    "def step1(state: CrashState) -> CrashState:\n",
    "    \n",
    "    print('step1 executed')\n",
    "    return {'step1': 'done', 'input': state['input']}"
   ]
  },
  {
   "cell_type": "code",
   "execution_count": 41,
   "id": "9d26b682",
   "metadata": {},
   "outputs": [],
   "source": [
    "#step2\n",
    "\n",
    "def step2(state: CrashState)-> CrashState:\n",
    "\n",
    "    print('step2 is running... now manually interrupt from the notebook toolbar (stop button)')\n",
    "    time.sleep(30)\n",
    "    return {'step2': 'done'}"
   ]
  },
  {
   "cell_type": "code",
   "execution_count": 42,
   "id": "c210e7f2",
   "metadata": {},
   "outputs": [],
   "source": [
    "# step3\n",
    "\n",
    "def step3(state: CrashState) -> CrashState:\n",
    "\n",
    "    print('step3 executed successfully')\n",
    "    return{'step3': 'done'}"
   ]
  },
  {
   "cell_type": "code",
   "execution_count": 43,
   "id": "6f94c588",
   "metadata": {},
   "outputs": [],
   "source": [
    "\n",
    "# Build the graph\n",
    "\n",
    "builder = StateGraph(CrashState)\n",
    "\n",
    "builder.add_node('step1', step1)\n",
    "builder.add_node('step2', step2)\n",
    "builder.add_node('step3', step3)\n",
    "\n",
    "\n",
    "builder.add_edge(START, 'step1')\n",
    "builder.add_edge('step1', 'step2')\n",
    "builder.add_edge('step2', 'step3')\n",
    "builder.add_edge('step3', END)\n",
    "\n",
    "checkpointer = InMemorySaver()\n",
    "\n",
    "graph = builder.compile(checkpointer=checkpointer)"
   ]
  },
  {
   "cell_type": "code",
   "execution_count": 44,
   "id": "c977dd75",
   "metadata": {},
   "outputs": [
    {
     "data": {
      "image/png": "[encoded data removed]",
      "text/plain": [
       "<langgraph.graph.state.CompiledStateGraph object at 0x706d4e57a570>"
      ]
     },
     "execution_count": 44,
     "metadata": {},
     "output_type": "execute_result"
    }
   ],
   "source": [
    "graph"
   ]
  },
  {
   "cell_type": "code",
   "execution_count": 45,
   "id": "c7b508c6",
   "metadata": {},
   "outputs": [
    {
     "name": "stdout",
     "output_type": "stream",
     "text": [
      "Running graph: Please manually interrupt during Step 2...\n",
      "step1 executed\n",
      "step2 is running... now manually interrupt from the notebook toolbar (stop button)\n",
      "Kernel manually interrupted (crash simulated).\n"
     ]
    }
   ],
   "source": [
    "\n",
    "try:\n",
    "    print(\"Running graph: Please manually interrupt during Step 2...\")\n",
    "    graph.invoke({\"input\": \"start\"}, config={\"configurable\": {\"thread_id\": 'thread-1'}})\n",
    "except KeyboardInterrupt:\n",
    "    print(\"Kernel manually interrupted (crash simulated).\")"
   ]
  },
  {
   "cell_type": "code",
   "execution_count": 46,
   "id": "43e41c57",
   "metadata": {},
   "outputs": [
    {
     "data": {
      "text/plain": [
       "StateSnapshot(values={}, next=(), config={'configurable': {'thread_id': 'thread_1'}}, metadata=None, created_at=None, parent_config=None, tasks=(), interrupts=())"
      ]
     },
     "execution_count": 46,
     "metadata": {},
     "output_type": "execute_result"
    }
   ],
   "source": [
    "graph.get_state({'configurable': {'thread_id': 'thread_1'}})"
   ]
  },
  {
   "cell_type": "code",
   "execution_count": 47,
   "id": "5ca06278",
   "metadata": {},
   "outputs": [
    {
     "data": {
      "text/plain": [
       "[StateSnapshot(values={'input': 'start', 'step1': 'done'}, next=('step2',), config={'configurable': {'thread_id': 'thread-1', 'checkpoint_ns': '', 'checkpoint_id': '1f090985-b604-60a3-8001-b25938af8c85'}}, metadata={'source': 'loop', 'step': 1, 'parents': {}}, created_at='2025-09-13T11:54:09.094778+00:00', parent_config={'configurable': {'thread_id': 'thread-1', 'checkpoint_ns': '', 'checkpoint_id': '1f090985-b5e4-66de-8000-7b16746167a4'}}, tasks=(PregelTask(id='ffd0a05a-3f62-5045-1006-2d0702076f7e', name='step2', path=('__pregel_pull', 'step2'), error=None, interrupts=(), state=None, result=None),), interrupts=()),\n",
       " StateSnapshot(values={'input': 'start'}, next=('step1',), config={'configurable': {'thread_id': 'thread-1', 'checkpoint_ns': '', 'checkpoint_id': '1f090985-b5e4-66de-8000-7b16746167a4'}}, metadata={'source': 'loop', 'step': 0, 'parents': {}}, created_at='2025-09-13T11:54:09.081841+00:00', parent_config={'configurable': {'thread_id': 'thread-1', 'checkpoint_ns': '', 'checkpoint_id': '1f090985-b5d7-6280-bfff-7825280630e4'}}, tasks=(PregelTask(id='298c2a7d-4fac-e381-1e69-e4600f0431b5', name='step1', path=('__pregel_pull', 'step1'), error=None, interrupts=(), state=None, result={'step1': 'done', 'input': 'start'}),), interrupts=()),\n",
       " StateSnapshot(values={}, next=('__start__',), config={'configurable': {'thread_id': 'thread-1', 'checkpoint_ns': '', 'checkpoint_id': '1f090985-b5d7-6280-bfff-7825280630e4'}}, metadata={'source': 'input', 'step': -1, 'parents': {}}, created_at='2025-09-13T11:54:09.076447+00:00', parent_config=None, tasks=(PregelTask(id='4003f668-4744-12b9-a4d0-e99c89f6c155', name='__start__', path=('__pregel_pull', '__start__'), error=None, interrupts=(), state=None, result={'input': 'start'}),), interrupts=())]"
      ]
     },
     "execution_count": 47,
     "metadata": {},
     "output_type": "execute_result"
    }
   ],
   "source": [
    "list(graph.get_state_history({'configurable': {'thread_id': 'thread-1'}}))"
   ]
  },
  {
   "cell_type": "code",
   "execution_count": 48,
   "id": "549aee34",
   "metadata": {},
   "outputs": [
    {
     "name": "stdout",
     "output_type": "stream",
     "text": [
      "step2 is running... now manually interrupt from the notebook toolbar (stop button)\n",
      "step3 executed successfully\n",
      "\n",
      " Final state:  {'input': 'start', 'step1': 'done', 'step2': 'done', 'step3': 'done'}\n"
     ]
    }
   ],
   "source": [
    "#Re-run to show fault-tolerant resume \n",
    "\n",
    "final_state = graph.invoke(None, config={'configurable': {'thread_id': 'thread-1'}})\n",
    "print('\\n Final state: ', final_state)"
   ]
  },
  {
   "cell_type": "code",
   "execution_count": 49,
   "id": "b9200562",
   "metadata": {},
   "outputs": [
    {
     "data": {
      "text/plain": [
       "StateSnapshot(values={}, next=(), config={'configurable': {'thread_id': 'thread_1'}}, metadata=None, created_at=None, parent_config=None, tasks=(), interrupts=())"
      ]
     },
     "execution_count": 49,
     "metadata": {},
     "output_type": "execute_result"
    }
   ],
   "source": [
    "graph.get_state({'configurable': {'thread_id': 'thread_1'}})"
   ]
  },
  {
   "cell_type": "code",
   "execution_count": 50,
   "id": "35901eae",
   "metadata": {},
   "outputs": [
    {
     "data": {
      "text/plain": [
       "[StateSnapshot(values={'input': 'start', 'step1': 'done', 'step2': 'done', 'step3': 'done'}, next=(), config={'configurable': {'thread_id': 'thread-1', 'checkpoint_ns': '', 'checkpoint_id': '1f090996-0cb4-62e6-8003-92793387b6ce'}}, metadata={'source': 'loop', 'step': 3, 'parents': {}}, created_at='2025-09-13T12:01:27.681412+00:00', parent_config={'configurable': {'thread_id': 'thread-1', 'checkpoint_ns': '', 'checkpoint_id': '1f090996-0ca3-6255-8002-3c24239ae385'}}, tasks=(), interrupts=()),\n",
       " StateSnapshot(values={'input': 'start', 'step1': 'done', 'step2': 'done'}, next=('step3',), config={'configurable': {'thread_id': 'thread-1', 'checkpoint_ns': '', 'checkpoint_id': '1f090996-0ca3-6255-8002-3c24239ae385'}}, metadata={'source': 'loop', 'step': 2, 'parents': {}}, created_at='2025-09-13T12:01:27.674399+00:00', parent_config={'configurable': {'thread_id': 'thread-1', 'checkpoint_ns': '', 'checkpoint_id': '1f090985-b604-60a3-8001-b25938af8c85'}}, tasks=(PregelTask(id='c2c8a500-e0ac-c27d-aaed-d3b694791175', name='step3', path=('__pregel_pull', 'step3'), error=None, interrupts=(), state=None, result={'step3': 'done'}),), interrupts=()),\n",
       " StateSnapshot(values={'input': 'start', 'step1': 'done'}, next=('step2',), config={'configurable': {'thread_id': 'thread-1', 'checkpoint_ns': '', 'checkpoint_id': '1f090985-b604-60a3-8001-b25938af8c85'}}, metadata={'source': 'loop', 'step': 1, 'parents': {}}, created_at='2025-09-13T11:54:09.094778+00:00', parent_config={'configurable': {'thread_id': 'thread-1', 'checkpoint_ns': '', 'checkpoint_id': '1f090985-b5e4-66de-8000-7b16746167a4'}}, tasks=(PregelTask(id='ffd0a05a-3f62-5045-1006-2d0702076f7e', name='step2', path=('__pregel_pull', 'step2'), error=None, interrupts=(), state=None, result={'step2': 'done'}),), interrupts=()),\n",
       " StateSnapshot(values={'input': 'start'}, next=('step1',), config={'configurable': {'thread_id': 'thread-1', 'checkpoint_ns': '', 'checkpoint_id': '1f090985-b5e4-66de-8000-7b16746167a4'}}, metadata={'source': 'loop', 'step': 0, 'parents': {}}, created_at='2025-09-13T11:54:09.081841+00:00', parent_config={'configurable': {'thread_id': 'thread-1', 'checkpoint_ns': '', 'checkpoint_id': '1f090985-b5d7-6280-bfff-7825280630e4'}}, tasks=(PregelTask(id='298c2a7d-4fac-e381-1e69-e4600f0431b5', name='step1', path=('__pregel_pull', 'step1'), error=None, interrupts=(), state=None, result={'step1': 'done', 'input': 'start'}),), interrupts=()),\n",
       " StateSnapshot(values={}, next=('__start__',), config={'configurable': {'thread_id': 'thread-1', 'checkpoint_ns': '', 'checkpoint_id': '1f090985-b5d7-6280-bfff-7825280630e4'}}, metadata={'source': 'input', 'step': -1, 'parents': {}}, created_at='2025-09-13T11:54:09.076447+00:00', parent_config=None, tasks=(PregelTask(id='4003f668-4744-12b9-a4d0-e99c89f6c155', name='__start__', path=('__pregel_pull', '__start__'), error=None, interrupts=(), state=None, result={'input': 'start'}),), interrupts=())]"
      ]
     },
     "execution_count": 50,
     "metadata": {},
     "output_type": "execute_result"
    }
   ],
   "source": [
    "list(graph.get_state_history({'configurable': {'thread_id': 'thread-1'}}))"
   ]
  },
  {
   "cell_type": "code",
   "execution_count": null,
   "id": "f778f343",
   "metadata": {},
   "outputs": [],
   "source": []
  }
 ],
 "metadata": {
  "kernelspec": {
   "display_name": "myenv (3.12.3)",
   "language": "python",
   "name": "python3"
  },
  "language_info": {
   "codemirror_mode": {
    "name": "ipython",
    "version": 3
   },
   "file_extension": ".py",
   "mimetype": "text/x-python",
   "name": "python",
   "nbconvert_exporter": "python",
   "pygments_lexer": "ipython3",
   "version": "3.12.3"
  }
 },
 "nbformat": 4,
 "nbformat_minor": 5
}
