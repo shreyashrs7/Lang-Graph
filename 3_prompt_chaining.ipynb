{
 "cells": [
  {
   "cell_type": "code",
   "execution_count": 48,
   "id": "2cbf9f93",
   "metadata": {},
   "outputs": [],
   "source": [
    "from langgraph.graph import StateGraph, START, END\n",
    "from langchain_google_genai import ChatGoogleGenerativeAI\n",
    "from typing import TypedDict\n",
    "from dotenv import load_dotenv"
   ]
  },
  {
   "cell_type": "code",
   "execution_count": 49,
   "id": "c1eb5fe1",
   "metadata": {},
   "outputs": [
    {
     "data": {
      "text/plain": [
       "True"
      ]
     },
     "execution_count": 49,
     "metadata": {},
     "output_type": "execute_result"
    }
   ],
   "source": [
    "load_dotenv()"
   ]
  },
  {
   "cell_type": "code",
   "execution_count": 50,
   "id": "ae43d286",
   "metadata": {},
   "outputs": [],
   "source": [
    "model = ChatGoogleGenerativeAI(model='gemini-2.5-flash')"
   ]
  },
  {
   "cell_type": "code",
   "execution_count": 51,
   "id": "eb6c22bd",
   "metadata": {},
   "outputs": [],
   "source": [
    "class BlogState(TypedDict):\n",
    "\n",
    "    title: str\n",
    "    outline: str\n",
    "    content: str\n",
    "    "
   ]
  },
  {
   "cell_type": "code",
   "execution_count": 52,
   "id": "4cd3d872",
   "metadata": {},
   "outputs": [],
   "source": [
    "def create_outline(state: BlogState) -> BlogState:\n",
    "\n",
    "    title = state['title']\n",
    "\n",
    "    prompt = f'generate a detailed outline for a bolg on the topic {title}'\n",
    "    outline = model.invoke(prompt).content\n",
    "\n",
    "    state['outline'] = outline\n",
    "\n",
    "    return state"
   ]
  },
  {
   "cell_type": "code",
   "execution_count": 53,
   "id": "ae294182",
   "metadata": {},
   "outputs": [],
   "source": [
    "def create_blog(state: BlogState) -> BlogState:\n",
    "\n",
    "    title = state['title']\n",
    "    outline = state['outline']\n",
    "\n",
    "    prompt = f'write a detailed blog on the title - {title} using the following outline \\n - {outline}'\n",
    "\n",
    "    content = model.invoke(prompt).content\n",
    "\n",
    "    state['content'] = content\n",
    "\n",
    "    return state"
   ]
  },
  {
   "cell_type": "code",
   "execution_count": 54,
   "id": "2bbe5647",
   "metadata": {},
   "outputs": [],
   "source": [
    "graph = StateGraph(BlogState)\n",
    "\n",
    "graph.add_node('create_outline', create_outline)\n",
    "graph.add_node('create_blog', create_blog)\n",
    "\n",
    "\n",
    "graph.add_edge(START, 'create_outline')\n",
    "graph.add_edge('create_outline', 'create_blog')\n",
    "graph.add_edge('create_blog', END)\n",
    "\n",
    "workflow = graph.compile()"
   ]
  },
  {
   "cell_type": "code",
   "execution_count": 55,
   "id": "0c1077c2",
   "metadata": {},
   "outputs": [
    {
     "data": {
      "image/png": "[encoded data removed]",
      "text/plain": [
       "<langgraph.graph.state.CompiledStateGraph object at 0x71ea0e075190>"
      ]
     },
     "execution_count": 55,
     "metadata": {},
     "output_type": "execute_result"
    }
   ],
   "source": [
    "workflow"
   ]
  },
  {
   "cell_type": "code",
   "execution_count": 56,
   "id": "8b106593",
   "metadata": {},
   "outputs": [
    {
     "name": "stdout",
     "output_type": "stream",
     "text": [
      "{'title': 'it companies in india', 'outline': 'Here\\'s a detailed outline for a blog post on \"IT Companies in India,\" designed to be comprehensive, engaging, and informative for a broad audience.\\n\\n---\\n\\n## Blog Title Options:\\n\\n*   **The Tech Titans of the East: A Deep Dive into IT Companies in India**\\n*   **India\\'s Digital Revolution: Unpacking the Landscape of IT Companies**\\n*   **Beyond Outsourcing: The Evolving World of IT Companies in India**\\n*   **From Silicon Valley to Silicon India: A Guide to the Nation\\'s IT Powerhouses**\\n\\n---\\n\\n## **I. Introduction**\\n\\n*   **A. Hook:** Start with India\\'s global reputation as a tech hub and its significant contribution to the world\\'s digital economy.\\n    *   *Example:* \"When you think of global tech innovation, names like Silicon Valley often come to mind. But increasingly, the spotlight is turning towards another powerhouse: India.\"\\n*   **B. Brief Overview:**\\n    *   Highlight the scale and growth of the Indian IT industry.\\n    *   Mention its economic impact (GDP contribution, job creation).\\n    *   Briefly touch upon its evolution from a service-centric model to a product and innovation-driven ecosystem.\\n*   **C. Thesis Statement/What to Expect:** Outline the blog\\'s scope – exploring the history, types, key players, services, competitive advantages, challenges, and future of IT companies in India.\\n\\n---\\n\\n## **II. The Foundation: A Brief History & Evolution**\\n\\n*   **A. Early Days (1980s-1990s):**\\n    *   Emergence of pioneers (TCS, Infosys, Wipro).\\n    *   Focus on software development, custom applications, and early outsourcing.\\n    *   Role of government policies (e.g., Software Technology Parks of India - STPI).\\n*   **B. The Y2K Boom & Liberalization (Late 1990s - Early 2000s):**\\n    *   Massive growth due to Y2K bug remediation.\\n    *   India as a cost-effective outsourcing destination.\\n    *   Entry of more global players and expansion of Indian firms.\\n*   **C. The Service-Centric Era (2000s - Early 2010s):**\\n    *   Dominance of IT services (application development, maintenance, BPO).\\n    *   Establishment of major IT hubs (Bengaluru, Hyderabad, Chennai, Pune, NCR).\\n*   **D. Shift Towards Digital & Product (2010s - Present):**\\n    *   Focus on digital transformation, cloud, AI, data analytics.\\n    *   Rise of Indian product companies and startups.\\n    *   Emphasis on value-added services, R&D, and innovation.\\n\\n---\\n\\n## **III. Diverse Landscape: Types of IT Companies in India**\\n\\n*   **A. IT Service Giants (The Global Powerhouses):**\\n    *   **Description:** Large-scale companies providing end-to-end IT solutions, consulting, and outsourcing services to global clients.\\n    *   **Key Players:** Tata Consultancy Services (TCS), Infosys, Wipro, HCLTech, Tech Mahindra, LTIMindtree, Cognizant (significant India operations).\\n    *   **Services:** Application development & maintenance, infrastructure management, cloud services, cybersecurity, digital transformation consulting, BPO/KPO.\\n*   **B. Product-Based Companies:**\\n    *   **Description:** Companies that develop and sell proprietary software products, SaaS solutions, and platforms.\\n    *   **Key Players:** Zoho, Freshworks, BrowserStack, Postman, Paytm, Flipkart (tech platform), BYJU\\'S (EdTech).\\n    *   **Focus:** Innovation, user experience, specific market niches (CRM, FinTech, EdTech, DevTools).\\n*   **C. Global Capability Centers (GCCs) / Captive Units:**\\n    *   **Description:** Indian operations of multinational corporations that perform IT, R&D, and business functions for their parent companies globally.\\n    *   **Key Players:** Microsoft India, Google India, IBM India, Amazon India, Oracle India, Intel India, etc.\\n    *   **Role:** Strategic importance for global operations, access to talent, cost efficiency, innovation hubs.\\n*   **D. Startups & Unicorns:**\\n    *   **Description:** Rapidly growing, often venture-funded companies focused on disruptive technologies and innovative business models.\\n    *   **Key Players/Examples:** Swiggy, Zomato, Ola, Dream11, PhonePe, Razorpay (many more across various sectors).\\n    *   **Impact:** Driving innovation, creating new markets, attracting significant investment.\\n*   **E. Mid-Sized & Niche Players:**\\n    *   **Description:** Companies specializing in specific technologies, industries, or geographical markets, often providing specialized services.\\n    *   **Examples:** Persistent Systems, Mphasis, Capgemini India (large, but often seen as mid-tier in India compared to the giants), Cyient.\\n    *   **Strength:** Agility, domain expertise, client-focused approaches.\\n\\n---\\n\\n## **IV. What They Do: Key Services & Solutions Offered**\\n\\n*   **A. Traditional Services (Still Evolving):**\\n    *   Software Development & Maintenance (ADM)\\n    *   IT Consulting & Strategy\\n    *   Infrastructure Management Services (IMS)\\n    *   Business Process Outsourcing (BPO) & Knowledge Process Outsourcing (KPO)\\n    *   Enterprise Resource Planning (ERP) Implementation & Support\\n*   **B. Modern & Emerging Technologies:**\\n    *   **Cloud Computing:** Migration, management, native development (AWS, Azure, GCP).\\n    *   **Artificial Intelligence (AI) & Machine Learning (ML):** Predictive analytics, natural language processing, computer vision, automation.\\n    *   **Data Analytics & Big Data:** Business intelligence, data warehousing, data science.\\n    *   **Cybersecurity:** Threat detection, incident response, compliance, security consulting.\\n    *   **Internet of Things (IoT):** Connected devices, smart solutions, industrial IoT.\\n    *   **Digital Transformation:** Customer experience, process automation, digital strategy.\\n    *   **DevOps & Agile Methodologies:** Streamlining software delivery.\\n    *   **Blockchain & Web3:** Distributed ledger technologies, decentralized applications.\\n    *   **5G & Edge Computing:** Next-gen connectivity and processing.\\n\\n---\\n\\n## **V. Why India? The Competitive Edge**\\n\\n*   **A. Vast Talent Pool:**\\n    *   Large number of STEM graduates (engineers, scientists).\\n    *   English proficiency.\\n    *   Strong work ethic and adaptability.\\n*   **B. Cost-Effectiveness (Though Evolving):**\\n    *   Lower operational and labor costs compared to developed nations.\\n    *   Value for money in services.\\n*   **C. Robust Ecosystem:**\\n    *   Presence of incubators, accelerators, and venture capital firms.\\n    *   Support from academic institutions and research centers.\\n    *   Strong professional networks and industry associations (NASSCOM).\\n*   **D. Government Support & Policies:**\\n    *   \"Digital India\" initiative.\\n    *   \"Make in India\" and \"Startup India\" programs.\\n    *   Special Economic Zones (SEZs) and IT parks.\\n*   **E. Time Zone Advantage:**\\n    *   Enables a \"follow-the-sun\" model for global clients, ensuring 24/7 productivity.\\n*   **F. Focus on Quality & Certifications:**\\n    *   High adoption of international quality standards (CMMI, ISO).\\n\\n---\\n\\n## **VI. Challenges & Opportunities**\\n\\n*   **A. Challenges:**\\n    *   **Talent Attrition & Retention:** High demand leading to fierce competition for skilled professionals.\\n    *   **Skill Gap:** Bridging the gap between academic output and industry demands for new technologies.\\n    *   **Global Competition:** From other emerging IT hubs and established players.\\n    *   **Infrastructure:** Though improving, still a concern in some areas.\\n    *   **Geopolitical & Economic Volatility:** Impact on global client spending.\\n    *   **Automation & AI:** Potential impact on traditional, repetitive tasks.\\n*   **B. Opportunities:**\\n    *   **Deep Tech Specialization:** AI, ML, Quantum Computing, Web3.\\n    *   **New Global Markets:** Expanding beyond traditional Western markets to APAC, Middle East, Africa.\\n    *   **Digital Transformation Wave:** Continued demand from businesses globally.\\n    *   **Upskilling & Reskilling:** Investment in continuous learning for the workforce.\\n    *   **Product Innovation:** Building world-class Indian products for global markets.\\n    *   **ESG (Environmental, Social, Governance) Focus:** Opportunity for sustainable and ethical tech solutions.\\n\\n---\\n\\n## **VII. Impact on India and the Global Stage**\\n\\n*   **A. Economic Contribution:**\\n    *   Significant portion of India\\'s GDP and export earnings.\\n    *   Foreign exchange earner.\\n*   **B. Job Creation:**\\n    *   Direct and indirect employment for millions.\\n    *   Growth of ancillary industries (real estate, hospitality, education).\\n*   **C. Brand India:**\\n    *   Enhanced global reputation as a knowledge economy and innovation hub.\\n    *   Attracting foreign investment.\\n*   **D. Social Impact:**\\n    *   Driving digital literacy and inclusion.\\n    *   Enabling entrepreneurship and innovation nationwide.\\n\\n---\\n\\n## **VIII. Conclusion**\\n\\n*   **A. Summarize Key Takeaways:** Reiterate India\\'s journey from an outsourcing hub to a global innovation powerhouse.\\n*   **B. Reaffirm India\\'s Position:** Emphasize its indispensable role in the global tech landscape.\\n*   **C. Future Outlook:** Express optimism about the continued growth, innovation, and impact of Indian IT companies.\\n    *   *Example:* \"The future looks incredibly bright for IT companies in India, poised to lead the charge in the next wave of technological evolution.\"\\n\\n---\\n\\n## **IX. Call to Action (Optional but Recommended for Blogs)**\\n\\n*   **A. Engage Readers:**\\n    *   \"What are your thoughts on India\\'s tech journey?\"\\n    *   \"Which Indian IT company inspires you the most and why?\"\\n    *   \"Share your experiences working with or for an Indian IT company in the comments below!\"\\n*   **B. Encourage Sharing:**\\n    *   \"If you found this guide insightful, please share it with your network!\"\\n*   **C. Further Reading:**\\n    *   Link to other relevant blog posts or reports (e.g., NASSCOM reports, company profiles).\\n\\n---\\n\\nThis detailed outline provides a robust structure for a comprehensive and engaging blog post, allowing for in-depth exploration of \"IT Companies in India.\"', 'content': '## India\\'s Digital Revolution: Unpacking the Landscape of IT Companies\\n\\nWhen you think of global tech innovation, names like Silicon Valley often come to mind. But increasingly, the spotlight is turning towards another powerhouse: India. Over the past few decades, India has not just emerged but firmly established itself as a global technology hub, playing an indispensable role in the world\\'s digital economy.\\n\\nThe Indian IT industry is a colossal engine of growth, boasting a market size that continues to expand exponentially, contributing a significant chunk to the nation\\'s GDP and creating millions of jobs, both directly and indirectly. What began as a service-centric model, primarily focused on outsourcing, has rapidly evolved into a dynamic, innovation-driven ecosystem, churning out cutting-edge products and solutions.\\n\\nThis blog post will take you on a comprehensive journey through the Indian IT landscape. We’ll explore its fascinating history, delve into the diverse types of companies that populate it, uncover the array of services they offer, examine India\\'s unique competitive advantages, address the challenges it faces, and cast a gaze into its promising future. Get ready to discover the tech titans and trailblazers shaping India\\'s digital destiny.\\n\\n---\\n\\n### I. The Foundation: A Brief History & Evolution\\n\\nThe story of Indian IT is one of remarkable transformation, from humble beginnings to global dominance.\\n\\n**A. Early Days (1980s-1990s):** The seeds of India\\'s IT revolution were sown in the 1980s. Pioneers like Tata Consultancy Services (TCS), Infosys, and Wipro began their journeys, initially focusing on custom software development and early forms of outsourcing for global clients. Government policies, particularly the establishment of Software Technology Parks of India (STPI), played a crucial role in providing the necessary infrastructure and incentives for these nascent companies to thrive.\\n\\n**B. The Y2K Boom & Liberalization (Late 1990s - Early 2000s):** The turn of the millennium brought an unprecedented surge in demand. The \"Y2K bug\" remediation presented Indian IT firms with a massive opportunity, showcasing their capability to handle large-scale, complex projects efficiently. This period, coupled with India\\'s economic liberalization, solidified its reputation as a cost-effective, high-quality outsourcing destination, attracting more global attention and fostering the expansion of domestic firms.\\n\\n**C. The Service-Centric Era (2000s - Early 2010s):** This decade saw the dominance of IT services, ranging from application development and maintenance (ADM) to business process outsourcing (BPO). Major IT hubs like Bengaluru, Hyderabad, Chennai, Pune, and the National Capital Region (NCR) transformed into bustling tech metropolises, drawing talent and investment from across the globe.\\n\\n**D. Shift Towards Digital & Product (2010s - Present):** As technology evolved, so did Indian IT. The focus shifted dramatically towards digital transformation, cloud computing, artificial intelligence (AI), data analytics, and cybersecurity. This era witnessed the rise of innovative Indian product companies and a vibrant startup ecosystem, moving beyond just services to emphasize value-added solutions, robust research & development (R&D), and homegrown innovation.\\n\\n---\\n\\n### II. Diverse Landscape: Types of IT Companies in India\\n\\nThe Indian IT sector is a rich tapestry woven with various types of companies, each contributing uniquely to its vibrant ecosystem.\\n\\n**A. IT Service Giants (The Global Powerhouses):**\\nThese are the behemoths of the Indian IT industry, providing end-to-end IT solutions, consulting, and outsourcing services to a global clientele, including many Fortune 500 companies.\\n*   **Key Players:** Tata Consultancy Services (TCS), Infosys, Wipro, HCLTech, Tech Mahindra, LTIMindtree, and Cognizant (with significant India operations).\\n*   **Services:** They offer a comprehensive suite including application development & maintenance, infrastructure management, cloud services, cybersecurity, digital transformation consulting, and BPO/KPO.\\n\\n**B. Product-Based Companies:**\\nMoving beyond services, these companies develop and sell proprietary software products, Software-as-a-Service (SaaS) solutions, and platforms, often with a global footprint.\\n*   **Key Players:** Zoho, Freshworks, BrowserStack, Postman, Paytm, Flipkart (as a tech platform), and BYJU\\'S (EdTech).\\n*   **Focus:** Innovation, user experience, and specific market niches such as CRM, FinTech, EdTech, and DevTools.\\n\\n**C. Global Capability Centers (GCCs) / Captive Units:**\\nThese are the Indian operations of multinational corporations, performing critical IT, R&D, and business functions for their parent companies worldwide. They are strategic centers of excellence.\\n*   **Key Players:** Microsoft India, Google India, IBM India, Amazon India, Oracle India, Intel India, and numerous others across various industries.\\n*   **Role:** They are vital for global operations, providing access to India\\'s vast talent pool, ensuring cost efficiency, and serving as innovation hubs for cutting-edge research.\\n\\n**D. Startups & Unicorns:**\\nIndia has one of the fastest-growing startup ecosystems globally, characterized by rapidly growing, often venture-funded companies focused on disruptive technologies and innovative business models. Many have achieved \"unicorn\" status (valuation over $1 billion).\\n*   **Key Players/Examples:** Swiggy, Zomato, Ola, Dream11, PhonePe, Razorpay, and hundreds more across FinTech, EdTech, E-commerce, Logistics, and SaaS.\\n*   **Impact:** They are driving innovation, creating new markets, attracting significant domestic and international investment, and fostering an entrepreneurial spirit.\\n\\n**E. Mid-Sized & Niche Players:**\\nThis segment comprises companies specializing in specific technologies, industries, or geographical markets, often providing highly specialized services.\\n*   **Examples:** Persistent Systems, Mphasis, Capgemini India (while large, often seen as mid-tier in India compared to the giants), Cyient.\\n*   **Strength:** Their agility, deep domain expertise, and client-focused approaches allow them to carve out significant market shares in specialized areas.\\n\\n---\\n\\n### III. What They Do: Key Services & Solutions Offered\\n\\nThe breadth of services offered by Indian IT companies is immense, covering traditional necessities and cutting-edge innovations.\\n\\n**A. Traditional Services (Still Evolving):**\\nThese form the bedrock of the industry, continuously being refined with modern approaches.\\n*   **Software Development & Maintenance (ADM):** Building, enhancing, and supporting custom applications and enterprise software.\\n*   **IT Consulting & Strategy:** Advising businesses on technology adoption, digital roadmaps, and IT optimization.\\n*   **Infrastructure Management Services (IMS):** Managing IT infrastructure, including networks, servers, and data centers, often moving towards cloud-managed services.\\n*   **Business Process Outsourcing (BPO) & Knowledge Process Outsourcing (KPO):** Handling non-core business functions (customer service, finance, HR) and specialized knowledge-intensive tasks (research, data analysis).\\n*   **Enterprise Resource Planning (ERP) Implementation & Support:** Deploying and maintaining large-scale ERP systems like SAP, Oracle, and Microsoft Dynamics.\\n\\n**B. Modern & Emerging Technologies:**\\nThese are the growth engines, driving digital transformation across industries.\\n*   **Cloud Computing:** Helping businesses migrate to, manage, and develop native applications on leading cloud platforms (AWS, Azure, GCP).\\n*   **Artificial Intelligence (AI) & Machine Learning (ML):** Developing solutions for predictive analytics, natural language processing (NLP), computer vision, intelligent automation, and robotic process automation (RPA).\\n*   **Data Analytics & Big Data:** Providing services for business intelligence, data warehousing, data governance, and advanced data science to extract actionable insights.\\n*   **Cybersecurity:** Offering comprehensive solutions for threat detection, incident response, vulnerability management, compliance, and security consulting to protect digital assets.\\n*   **Internet of Things (IoT):** Designing and implementing connected devices, smart solutions for various sectors (smart cities, industrial IoT, healthcare), and managing IoT ecosystems.\\n*   **Digital Transformation:** Guiding organizations through comprehensive digital overhauls, focusing on customer experience, process automation, and digital strategy.\\n*   **DevOps & Agile Methodologies:** Implementing practices and tools to streamline software delivery, improve collaboration, and accelerate time-to-market.\\n*   **Blockchain & Web3:** Exploring and developing distributed ledger technologies, smart contracts, and decentralized applications for various use cases.\\n*   **5G & Edge Computing:** Leveraging next-generation connectivity and localized processing capabilities to enable real-time applications and services.\\n\\n---\\n\\n### IV. Why India? The Competitive Edge\\n\\nIndia\\'s rise as an IT powerhouse is no accident; it\\'s built upon a unique combination of strategic advantages.\\n\\n**A. Vast Talent Pool:** India produces a staggering number of STEM (Science, Technology, Engineering, Mathematics) graduates each year, ensuring a continuous supply of skilled engineers and scientists. This workforce also boasts high English proficiency and a strong work ethic, coupled with adaptability to diverse global work cultures.\\n\\n**B. Cost-Effectiveness (Though Evolving):** While labor costs are rising, India still offers significant cost advantages compared to developed nations, providing exceptional value for money in IT services and solutions. This allows global companies to optimize their budgets without compromising on quality.\\n\\n**C. Robust Ecosystem:** The Indian IT sector benefits from a well-developed ecosystem, including numerous incubators, accelerators, and a thriving venture capital landscape. Strong ties with academic institutions and research centers foster innovation, complemented by powerful industry associations like NASSCOM, which advocate for the sector and facilitate collaboration.\\n\\n**D. Government Support & Policies:** Proactive government initiatives have been instrumental. Programs like \"Digital India\" aim to digitally empower society and the knowledge economy. \"Make in India\" and \"Startup India\" encourage domestic manufacturing and entrepreneurship, while Special Economic Zones (SEZs) and dedicated IT parks offer tax benefits and world-class infrastructure.\\n\\n**E. Time Zone Advantage:** India\\'s geographical location provides a unique \"follow-the-sun\" model for global clients. When Western markets close, Indian teams can pick up the work, ensuring continuous development and support, leading to 24/7 productivity and faster project completion.\\n\\n**F. Focus on Quality & Certifications:** Indian IT companies have a strong commitment to quality, leading to high adoption rates of international quality standards such as CMMI (Capability Maturity Model Integration) and ISO certifications, assuring clients of reliable and high-standard deliverables.\\n\\n---\\n\\n### V. Challenges & Opportunities\\n\\nDespite its phenomenal success, the Indian IT sector navigates a landscape of both persistent challenges and exciting opportunities.\\n\\n**A. Challenges:**\\n*   **Talent Attrition & Retention:** The high demand for skilled professionals leads to fierce competition, making talent attraction and retention a significant challenge for companies.\\n*   **Skill Gap:** While producing many graduates, a gap often exists between academic output and the rapidly evolving demands of new technologies, requiring continuous upskilling.\\n*   **Global Competition:** India faces increasing competition from other emerging IT hubs (e.g., Eastern Europe, Latin America) and established players innovating rapidly.\\n*   **Infrastructure:** While improving, infrastructure, particularly in tier-2 and tier-3 cities, can still be a concern for large-scale operations.\\n*   **Geopolitical & Economic Volatility:** Global economic downturns or geopolitical tensions can impact client spending and project pipelines, affecting the industry\\'s growth.\\n*   **Automation & AI:** The rise of automation and AI poses a potential threat to traditional, repetitive tasks, necessitating a shift towards higher-value, cognitive services.\\n\\n**B. Opportunities:**\\n*   **Deep Tech Specialization:** India has a massive opportunity to specialize in cutting-edge areas like advanced AI, Machine Learning, Quantum Computing, and Web3, becoming a global leader in these domains.\\n*   **New Global Markets:** Expanding beyond traditional Western markets into emerging economies in APAC, the Middle East, and Africa can unlock new growth avenues.\\n*   **Digital Transformation Wave:** The global demand for digital transformation continues unabated, providing a sustained growth opportunity for Indian IT companies to assist businesses worldwide.\\n*   **Upskilling & Reskilling:** Investing heavily in continuous learning and development for the workforce can bridge skill gaps and keep India competitive.\\n*   **Product Innovation:** There\\'s immense potential to build world-class, globally competitive Indian products and platforms, moving further up the value chain.\\n*   **ESG (Environmental, Social, Governance) Focus:** With increasing global emphasis on sustainability, Indian IT companies can lead in developing and implementing ethical and environmentally responsible tech solutions.\\n\\n---\\n\\n### VI. Impact on India and the Global Stage\\n\\nThe ripple effect of India\\'s IT sector extends far beyond balance sheets, influencing the nation\\'s economy, society, and global standing.\\n\\n**A. Economic Contribution:** The IT-BPM sector is a significant contributor to India\\'s GDP, consistently among the largest service export earners, bringing in substantial foreign exchange and bolstering the national economy.\\n\\n**B. Job Creation:** It is a colossal job creator, providing direct employment to millions and indirectly supporting countless more through ancillary industries like real estate, hospitality, transportation, and education. This has led to the growth of a thriving middle class.\\n\\n**C. Brand India:** The success of Indian IT companies has significantly enhanced India\\'s global reputation as a knowledge economy, an innovation hub, and a reliable partner in the digital age, attracting further foreign investment and fostering international collaborations.\\n\\n**D. Social Impact:** Beyond economics, the IT sector has driven digital literacy and inclusion, making technology accessible to a broader population. It has also fostered a culture of entrepreneurship and innovation, inspiring a new generation of problem-solvers across the nation.\\n\\n---\\n\\n### VII. Conclusion\\n\\nIndia\\'s journey in the IT sector is a compelling narrative of ambition, adaptation, and relentless growth. From its humble beginnings as an outsourcing hub, it has transformed into a sophisticated global innovation powerhouse, capable of delivering cutting-edge solutions across the technological spectrum. The diverse landscape of IT service giants, product innovators, global capability centers, and dynamic startups collectively underscores India\\'s indispensable role in shaping the global tech landscape.\\n\\nWhile challenges like talent management and evolving global competition persist, the opportunities in deep tech, new markets, and digital transformation are even more profound. The future looks incredibly bright for IT companies in India, poised to lead the charge in the next wave of technological evolution, continuing to drive economic prosperity, foster innovation, and solidify India\\'s position as a truly global digital leader.\\n\\n---\\n\\n### VIII. Call to Action\\n\\nWhat are your thoughts on India\\'s incredible tech journey? Which Indian IT company inspires you the most and why? Share your experiences working with or for an Indian IT company in the comments below!\\n\\nIf you found this guide insightful, please share it with your network and help spread the word about India\\'s digital revolution! For further reading, explore NASSCOM\\'s annual reports on the Indian IT industry for deeper insights.'}\n"
     ]
    }
   ],
   "source": [
    "result = ({'title': 'it companies in india'})\n",
    "\n",
    "answer = workflow.invoke(result)\n",
    "\n",
    "print(answer)"
   ]
  },
  {
   "cell_type": "code",
   "execution_count": 57,
   "id": "35dbdb94",
   "metadata": {},
   "outputs": [
    {
     "name": "stdout",
     "output_type": "stream",
     "text": [
      "Here's a detailed outline for a blog post on \"IT Companies in India,\" designed to be comprehensive, engaging, and informative for a broad audience.\n",
      "\n",
      "---\n",
      "\n",
      "## Blog Title Options:\n",
      "\n",
      "*   **The Tech Titans of the East: A Deep Dive into IT Companies in India**\n",
      "*   **India's Digital Revolution: Unpacking the Landscape of IT Companies**\n",
      "*   **Beyond Outsourcing: The Evolving World of IT Companies in India**\n",
      "*   **From Silicon Valley to Silicon India: A Guide to the Nation's IT Powerhouses**\n",
      "\n",
      "---\n",
      "\n",
      "## **I. Introduction**\n",
      "\n",
      "*   **A. Hook:** Start with India's global reputation as a tech hub and its significant contribution to the world's digital economy.\n",
      "    *   *Example:* \"When you think of global tech innovation, names like Silicon Valley often come to mind. But increasingly, the spotlight is turning towards another powerhouse: India.\"\n",
      "*   **B. Brief Overview:**\n",
      "    *   Highlight the scale and growth of the Indian IT industry.\n",
      "    *   Mention its economic impact (GDP contribution, job creation).\n",
      "    *   Briefly touch upon its evolution from a service-centric model to a product and innovation-driven ecosystem.\n",
      "*   **C. Thesis Statement/What to Expect:** Outline the blog's scope – exploring the history, types, key players, services, competitive advantages, challenges, and future of IT companies in India.\n",
      "\n",
      "---\n",
      "\n",
      "## **II. The Foundation: A Brief History & Evolution**\n",
      "\n",
      "*   **A. Early Days (1980s-1990s):**\n",
      "    *   Emergence of pioneers (TCS, Infosys, Wipro).\n",
      "    *   Focus on software development, custom applications, and early outsourcing.\n",
      "    *   Role of government policies (e.g., Software Technology Parks of India - STPI).\n",
      "*   **B. The Y2K Boom & Liberalization (Late 1990s - Early 2000s):**\n",
      "    *   Massive growth due to Y2K bug remediation.\n",
      "    *   India as a cost-effective outsourcing destination.\n",
      "    *   Entry of more global players and expansion of Indian firms.\n",
      "*   **C. The Service-Centric Era (2000s - Early 2010s):**\n",
      "    *   Dominance of IT services (application development, maintenance, BPO).\n",
      "    *   Establishment of major IT hubs (Bengaluru, Hyderabad, Chennai, Pune, NCR).\n",
      "*   **D. Shift Towards Digital & Product (2010s - Present):**\n",
      "    *   Focus on digital transformation, cloud, AI, data analytics.\n",
      "    *   Rise of Indian product companies and startups.\n",
      "    *   Emphasis on value-added services, R&D, and innovation.\n",
      "\n",
      "---\n",
      "\n",
      "## **III. Diverse Landscape: Types of IT Companies in India**\n",
      "\n",
      "*   **A. IT Service Giants (The Global Powerhouses):**\n",
      "    *   **Description:** Large-scale companies providing end-to-end IT solutions, consulting, and outsourcing services to global clients.\n",
      "    *   **Key Players:** Tata Consultancy Services (TCS), Infosys, Wipro, HCLTech, Tech Mahindra, LTIMindtree, Cognizant (significant India operations).\n",
      "    *   **Services:** Application development & maintenance, infrastructure management, cloud services, cybersecurity, digital transformation consulting, BPO/KPO.\n",
      "*   **B. Product-Based Companies:**\n",
      "    *   **Description:** Companies that develop and sell proprietary software products, SaaS solutions, and platforms.\n",
      "    *   **Key Players:** Zoho, Freshworks, BrowserStack, Postman, Paytm, Flipkart (tech platform), BYJU'S (EdTech).\n",
      "    *   **Focus:** Innovation, user experience, specific market niches (CRM, FinTech, EdTech, DevTools).\n",
      "*   **C. Global Capability Centers (GCCs) / Captive Units:**\n",
      "    *   **Description:** Indian operations of multinational corporations that perform IT, R&D, and business functions for their parent companies globally.\n",
      "    *   **Key Players:** Microsoft India, Google India, IBM India, Amazon India, Oracle India, Intel India, etc.\n",
      "    *   **Role:** Strategic importance for global operations, access to talent, cost efficiency, innovation hubs.\n",
      "*   **D. Startups & Unicorns:**\n",
      "    *   **Description:** Rapidly growing, often venture-funded companies focused on disruptive technologies and innovative business models.\n",
      "    *   **Key Players/Examples:** Swiggy, Zomato, Ola, Dream11, PhonePe, Razorpay (many more across various sectors).\n",
      "    *   **Impact:** Driving innovation, creating new markets, attracting significant investment.\n",
      "*   **E. Mid-Sized & Niche Players:**\n",
      "    *   **Description:** Companies specializing in specific technologies, industries, or geographical markets, often providing specialized services.\n",
      "    *   **Examples:** Persistent Systems, Mphasis, Capgemini India (large, but often seen as mid-tier in India compared to the giants), Cyient.\n",
      "    *   **Strength:** Agility, domain expertise, client-focused approaches.\n",
      "\n",
      "---\n",
      "\n",
      "## **IV. What They Do: Key Services & Solutions Offered**\n",
      "\n",
      "*   **A. Traditional Services (Still Evolving):**\n",
      "    *   Software Development & Maintenance (ADM)\n",
      "    *   IT Consulting & Strategy\n",
      "    *   Infrastructure Management Services (IMS)\n",
      "    *   Business Process Outsourcing (BPO) & Knowledge Process Outsourcing (KPO)\n",
      "    *   Enterprise Resource Planning (ERP) Implementation & Support\n",
      "*   **B. Modern & Emerging Technologies:**\n",
      "    *   **Cloud Computing:** Migration, management, native development (AWS, Azure, GCP).\n",
      "    *   **Artificial Intelligence (AI) & Machine Learning (ML):** Predictive analytics, natural language processing, computer vision, automation.\n",
      "    *   **Data Analytics & Big Data:** Business intelligence, data warehousing, data science.\n",
      "    *   **Cybersecurity:** Threat detection, incident response, compliance, security consulting.\n",
      "    *   **Internet of Things (IoT):** Connected devices, smart solutions, industrial IoT.\n",
      "    *   **Digital Transformation:** Customer experience, process automation, digital strategy.\n",
      "    *   **DevOps & Agile Methodologies:** Streamlining software delivery.\n",
      "    *   **Blockchain & Web3:** Distributed ledger technologies, decentralized applications.\n",
      "    *   **5G & Edge Computing:** Next-gen connectivity and processing.\n",
      "\n",
      "---\n",
      "\n",
      "## **V. Why India? The Competitive Edge**\n",
      "\n",
      "*   **A. Vast Talent Pool:**\n",
      "    *   Large number of STEM graduates (engineers, scientists).\n",
      "    *   English proficiency.\n",
      "    *   Strong work ethic and adaptability.\n",
      "*   **B. Cost-Effectiveness (Though Evolving):**\n",
      "    *   Lower operational and labor costs compared to developed nations.\n",
      "    *   Value for money in services.\n",
      "*   **C. Robust Ecosystem:**\n",
      "    *   Presence of incubators, accelerators, and venture capital firms.\n",
      "    *   Support from academic institutions and research centers.\n",
      "    *   Strong professional networks and industry associations (NASSCOM).\n",
      "*   **D. Government Support & Policies:**\n",
      "    *   \"Digital India\" initiative.\n",
      "    *   \"Make in India\" and \"Startup India\" programs.\n",
      "    *   Special Economic Zones (SEZs) and IT parks.\n",
      "*   **E. Time Zone Advantage:**\n",
      "    *   Enables a \"follow-the-sun\" model for global clients, ensuring 24/7 productivity.\n",
      "*   **F. Focus on Quality & Certifications:**\n",
      "    *   High adoption of international quality standards (CMMI, ISO).\n",
      "\n",
      "---\n",
      "\n",
      "## **VI. Challenges & Opportunities**\n",
      "\n",
      "*   **A. Challenges:**\n",
      "    *   **Talent Attrition & Retention:** High demand leading to fierce competition for skilled professionals.\n",
      "    *   **Skill Gap:** Bridging the gap between academic output and industry demands for new technologies.\n",
      "    *   **Global Competition:** From other emerging IT hubs and established players.\n",
      "    *   **Infrastructure:** Though improving, still a concern in some areas.\n",
      "    *   **Geopolitical & Economic Volatility:** Impact on global client spending.\n",
      "    *   **Automation & AI:** Potential impact on traditional, repetitive tasks.\n",
      "*   **B. Opportunities:**\n",
      "    *   **Deep Tech Specialization:** AI, ML, Quantum Computing, Web3.\n",
      "    *   **New Global Markets:** Expanding beyond traditional Western markets to APAC, Middle East, Africa.\n",
      "    *   **Digital Transformation Wave:** Continued demand from businesses globally.\n",
      "    *   **Upskilling & Reskilling:** Investment in continuous learning for the workforce.\n",
      "    *   **Product Innovation:** Building world-class Indian products for global markets.\n",
      "    *   **ESG (Environmental, Social, Governance) Focus:** Opportunity for sustainable and ethical tech solutions.\n",
      "\n",
      "---\n",
      "\n",
      "## **VII. Impact on India and the Global Stage**\n",
      "\n",
      "*   **A. Economic Contribution:**\n",
      "    *   Significant portion of India's GDP and export earnings.\n",
      "    *   Foreign exchange earner.\n",
      "*   **B. Job Creation:**\n",
      "    *   Direct and indirect employment for millions.\n",
      "    *   Growth of ancillary industries (real estate, hospitality, education).\n",
      "*   **C. Brand India:**\n",
      "    *   Enhanced global reputation as a knowledge economy and innovation hub.\n",
      "    *   Attracting foreign investment.\n",
      "*   **D. Social Impact:**\n",
      "    *   Driving digital literacy and inclusion.\n",
      "    *   Enabling entrepreneurship and innovation nationwide.\n",
      "\n",
      "---\n",
      "\n",
      "## **VIII. Conclusion**\n",
      "\n",
      "*   **A. Summarize Key Takeaways:** Reiterate India's journey from an outsourcing hub to a global innovation powerhouse.\n",
      "*   **B. Reaffirm India's Position:** Emphasize its indispensable role in the global tech landscape.\n",
      "*   **C. Future Outlook:** Express optimism about the continued growth, innovation, and impact of Indian IT companies.\n",
      "    *   *Example:* \"The future looks incredibly bright for IT companies in India, poised to lead the charge in the next wave of technological evolution.\"\n",
      "\n",
      "---\n",
      "\n",
      "## **IX. Call to Action (Optional but Recommended for Blogs)**\n",
      "\n",
      "*   **A. Engage Readers:**\n",
      "    *   \"What are your thoughts on India's tech journey?\"\n",
      "    *   \"Which Indian IT company inspires you the most and why?\"\n",
      "    *   \"Share your experiences working with or for an Indian IT company in the comments below!\"\n",
      "*   **B. Encourage Sharing:**\n",
      "    *   \"If you found this guide insightful, please share it with your network!\"\n",
      "*   **C. Further Reading:**\n",
      "    *   Link to other relevant blog posts or reports (e.g., NASSCOM reports, company profiles).\n",
      "\n",
      "---\n",
      "\n",
      "This detailed outline provides a robust structure for a comprehensive and engaging blog post, allowing for in-depth exploration of \"IT Companies in India.\"\n"
     ]
    }
   ],
   "source": [
    "print(answer['outline'])"
   ]
  },
  {
   "cell_type": "code",
   "execution_count": null,
   "id": "8fd04219",
   "metadata": {},
   "outputs": [],
   "source": []
  }
 ],
 "metadata": {
  "kernelspec": {
   "display_name": "myenv (3.12.3)",
   "language": "python",
   "name": "python3"
  },
  "language_info": {
   "codemirror_mode": {
    "name": "ipython",
    "version": 3
   },
   "file_extension": ".py",
   "mimetype": "text/x-python",
   "name": "python",
   "nbconvert_exporter": "python",
   "pygments_lexer": "ipython3",
   "version": "3.12.3"
  }
 },
 "nbformat": 4,
 "nbformat_minor": 5
}
