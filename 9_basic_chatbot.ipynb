{
 "cells": [
  {
   "cell_type": "code",
   "execution_count": 10,
   "id": "f8f9c529",
   "metadata": {},
   "outputs": [],
   "source": [
    "from langgraph.graph import StateGraph, START, END\n",
    "from langchain_google_genai import ChatGoogleGenerativeAI\n",
    "from typing import TypedDict, Annotated\n",
    "from langchain_core.messages import BaseMessage, HumanMessage\n",
    "from langgraph.checkpoint.memory import MemorySaver"
   ]
  },
  {
   "cell_type": "code",
   "execution_count": 2,
   "id": "32720bf2",
   "metadata": {},
   "outputs": [],
   "source": [
    "from langgraph.graph.message import add_messages\n",
    "class ChatState(TypedDict):\n",
    "    messages: Annotated[list[BaseMessage], add_messages]"
   ]
  },
  {
   "cell_type": "code",
   "execution_count": 3,
   "id": "e5ee0cf6",
   "metadata": {},
   "outputs": [],
   "source": [
    "llm = ChatGoogleGenerativeAI(model= 'gemini-2.5-flash')\n",
    "\n",
    "def chat_node(state: ChatState):\n",
    "\n",
    "    messages = state['messages']\n",
    "\n",
    "    response = llm.invoke(messages)\n",
    "\n",
    "    return {'messages': [response]}"
   ]
  },
  {
   "cell_type": "code",
   "execution_count": 11,
   "id": "c0645687",
   "metadata": {},
   "outputs": [],
   "source": [
    "checkpointer = MemorySaver()\n",
    "\n",
    "graph = StateGraph(ChatState)\n",
    "\n",
    "graph.add_node('chat_node', chat_node)\n",
    "\n",
    "graph.add_edge(START, 'chat_node')\n",
    "graph.add_edge('chat_node', END)\n",
    "\n",
    "\n",
    "chatbot = graph.compile(checkpointer= checkpointer)"
   ]
  },
  {
   "cell_type": "code",
   "execution_count": 5,
   "id": "2fe0f0a7",
   "metadata": {},
   "outputs": [
    {
     "data": {
      "image/png": "[encoded data removed]",
      "text/plain": [
       "<langgraph.graph.state.CompiledStateGraph object at 0x73899cf0b3e0>"
      ]
     },
     "execution_count": 5,
     "metadata": {},
     "output_type": "execute_result"
    }
   ],
   "source": [
    "chatbot"
   ]
  },
  {
   "cell_type": "code",
   "execution_count": 6,
   "id": "4f734172",
   "metadata": {},
   "outputs": [
    {
     "data": {
      "text/plain": [
       "{'messages': [HumanMessage(content='What is the captail of india', additional_kwargs={}, response_metadata={}, id='de728ea8-743f-456e-b6f5-39121789b0b4'),\n",
       "  AIMessage(content='The capital of India is **New Delhi**.', additional_kwargs={}, response_metadata={'prompt_feedback': {'block_reason': 0, 'safety_ratings': []}, 'finish_reason': 'STOP', 'model_name': 'gemini-2.5-flash', 'safety_ratings': []}, id='run--f567720a-c0ec-41f8-84ff-45310fa8d527-0', usage_metadata={'input_tokens': 8, 'output_tokens': 35, 'total_tokens': 43, 'input_token_details': {'cache_read': 0}, 'output_token_details': {'reasoning': 26}})]}"
      ]
     },
     "execution_count": 6,
     "metadata": {},
     "output_type": "execute_result"
    }
   ],
   "source": [
    "initial_state = {\n",
    "    'messages': [HumanMessage(content='What is the captail of india')]\n",
    "}\n",
    "\n",
    "chatbot.invoke(initial_state)"
   ]
  },
  {
   "cell_type": "code",
   "execution_count": 13,
   "id": "5c502490",
   "metadata": {},
   "outputs": [
    {
     "name": "stdout",
     "output_type": "stream",
     "text": [
      "User Hi my name is shreyash\n",
      "AI: Hello Shreyash! It's good to meet you again.\n",
      "\n",
      "How can I assist you today?\n",
      "User tell me my name\n",
      "AI: Your name is Shreyash.\n",
      "User now add 10 and 20\n",
      "AI: 10 + 20 = 30\n",
      "User multiply result with 3 \n",
      "AI: The previous result was 30.\n",
      "\n",
      "30 * 3 = 90\n",
      "User by\n",
      "AI: Goodbye, Shreyash!\n",
      "\n",
      "If you have any more questions or need help with anything else, feel free to ask. Have a great day!\n",
      "User \n"
     ]
    },
    {
     "name": "stderr",
     "output_type": "stream",
     "text": [
      "/home/shreyash-ubuntu/Genai and Agenticai/myenv/lib/python3.12/site-packages/langchain_google_genai/chat_models.py:1803: UserWarning: HumanMessage with empty content was removed to prevent API error\n",
      "  warnings.warn(\n",
      "Gemini produced an empty response. Continuing with empty message\n",
      "Feedback: \n"
     ]
    },
    {
     "name": "stdout",
     "output_type": "stream",
     "text": [
      "AI: \n",
      "User \n"
     ]
    },
    {
     "name": "stderr",
     "output_type": "stream",
     "text": [
      "/home/shreyash-ubuntu/Genai and Agenticai/myenv/lib/python3.12/site-packages/langchain_google_genai/chat_models.py:1803: UserWarning: HumanMessage with empty content was removed to prevent API error\n",
      "  warnings.warn(\n"
     ]
    },
    {
     "name": "stdout",
     "output_type": "stream",
     "text": [
      "AI: Goodbye, Shreyash!\n",
      "\n",
      "It was nice chatting with you. Feel free to come back anytime if you need anything else. Have a great day!\n",
      "User exit\n"
     ]
    }
   ],
   "source": [
    "thread_id = '1'\n",
    "\n",
    "while True:\n",
    "\n",
    "    user_message = input('Type Here')\n",
    "    print('User', user_message)\n",
    "\n",
    "    if user_message.strip().lower() in ['exit', 'quit', 'bye']:\n",
    "        break\n",
    "\n",
    "    config = {'configurable': {'thread_id': thread_id}}\n",
    "\n",
    "    response = chatbot.invoke({'messages': [HumanMessage(content=user_message)]}, config = config)\n",
    "\n",
    "    print('AI:', response['messages'][-1].content)"
   ]
  },
  {
   "cell_type": "code",
   "execution_count": 14,
   "id": "ee8782aa",
   "metadata": {},
   "outputs": [
    {
     "data": {
      "text/plain": [
       "StateSnapshot(values={'messages': [HumanMessage(content='i am shreyash', additional_kwargs={}, response_metadata={}, id='9f0af64f-3782-4cfd-95bc-e1ca3b8f33d8'), AIMessage(content=\"Hello Shreyash! It's good to meet you.\\n\\nHow can I help you today?\", additional_kwargs={}, response_metadata={'prompt_feedback': {'block_reason': 0, 'safety_ratings': []}, 'finish_reason': 'STOP', 'model_name': 'gemini-2.5-flash', 'safety_ratings': []}, id='run--80d9b158-6e90-49c5-98e8-82f887b5091f-0', usage_metadata={'input_tokens': 6, 'output_tokens': 458, 'total_tokens': 464, 'input_token_details': {'cache_read': 0}, 'output_token_details': {'reasoning': 437}}), HumanMessage(content='tell me my name', additional_kwargs={}, response_metadata={}, id='5dc9ed3a-e199-434f-a254-a50bde601ec2'), AIMessage(content='Your name is Shreyash.', additional_kwargs={}, response_metadata={'prompt_feedback': {'block_reason': 0, 'safety_ratings': []}, 'finish_reason': 'STOP', 'model_name': 'gemini-2.5-flash', 'safety_ratings': []}, id='run--e4dbdb05-12ca-45f8-90c4-5102d12c9542-0', usage_metadata={'input_tokens': 33, 'output_tokens': 52, 'total_tokens': 85, 'input_token_details': {'cache_read': 0}, 'output_token_details': {'reasoning': 45}}), HumanMessage(content='Hi my name is shreyash', additional_kwargs={}, response_metadata={}, id='ea2fe809-d9a7-4766-ad9d-d3329bcdb604'), AIMessage(content=\"Hello Shreyash! It's good to meet you again.\\n\\nHow can I assist you today?\", additional_kwargs={}, response_metadata={'prompt_feedback': {'block_reason': 0, 'safety_ratings': []}, 'finish_reason': 'STOP', 'model_name': 'gemini-2.5-flash', 'safety_ratings': []}, id='run--0b25862f-3a12-4c21-93ba-a57f4e9ccde8-0', usage_metadata={'input_tokens': 49, 'output_tokens': 56, 'total_tokens': 105, 'input_token_details': {'cache_read': 0}, 'output_token_details': {'reasoning': 34}}), HumanMessage(content='tell me my name', additional_kwargs={}, response_metadata={}, id='a67d3fbd-904c-406d-8f1e-61bcb90ffe8a'), AIMessage(content='Your name is Shreyash.', additional_kwargs={}, response_metadata={'prompt_feedback': {'block_reason': 0, 'safety_ratings': []}, 'finish_reason': 'STOP', 'model_name': 'gemini-2.5-flash', 'safety_ratings': []}, id='run--f2601b04-e4a9-4061-8c94-6c60047f5d2b-0', usage_metadata={'input_tokens': 77, 'output_tokens': 36, 'total_tokens': 113, 'input_token_details': {'cache_read': 0}, 'output_token_details': {'reasoning': 29}}), HumanMessage(content='now add 10 and 20', additional_kwargs={}, response_metadata={}, id='de7fbadb-e980-40f2-a658-e94cd825b24e'), AIMessage(content='10 + 20 = 30', additional_kwargs={}, response_metadata={'prompt_feedback': {'block_reason': 0, 'safety_ratings': []}, 'finish_reason': 'STOP', 'model_name': 'gemini-2.5-flash', 'safety_ratings': []}, id='run--6af8d2b2-8c2f-40fe-b0c4-2a5e11784f6f-0', usage_metadata={'input_tokens': 95, 'output_tokens': 10, 'total_tokens': 105, 'input_token_details': {'cache_read': 0}}), HumanMessage(content='multiply result with 3 ', additional_kwargs={}, response_metadata={}, id='0a55ea8c-ab03-4e18-8785-7addf5b03ced'), AIMessage(content='The previous result was 30.\\n\\n30 * 3 = 90', additional_kwargs={}, response_metadata={'prompt_feedback': {'block_reason': 0, 'safety_ratings': []}, 'finish_reason': 'STOP', 'model_name': 'gemini-2.5-flash', 'safety_ratings': []}, id='run--23c66609-1596-4970-b816-012f324a30b1-0', usage_metadata={'input_tokens': 113, 'output_tokens': 18, 'total_tokens': 131, 'input_token_details': {'cache_read': 0}}), HumanMessage(content='by', additional_kwargs={}, response_metadata={}, id='d96f758b-78d8-48de-87ac-bd53a6b1d0e0'), AIMessage(content='Goodbye, Shreyash!\\n\\nIf you have any more questions or need help with anything else, feel free to ask. Have a great day!', additional_kwargs={}, response_metadata={'prompt_feedback': {'block_reason': 0, 'safety_ratings': []}, 'finish_reason': 'STOP', 'model_name': 'gemini-2.5-flash', 'safety_ratings': []}, id='run--be6314b3-56cf-45f0-98e8-8983538e8214-0', usage_metadata={'input_tokens': 134, 'output_tokens': 30, 'total_tokens': 164, 'input_token_details': {'cache_read': 0}}), HumanMessage(content='', additional_kwargs={}, response_metadata={}, id='07b9c2d2-2d2b-46a3-8d7a-4883a297d0d9'), AIMessage(content='', additional_kwargs={}, response_metadata={'prompt_feedback': {'block_reason': 0, 'safety_ratings': []}}, id='run--de4091d3-1dac-4b56-88ee-654bb53f1e0b-0'), HumanMessage(content='', additional_kwargs={}, response_metadata={}, id='38ad932a-52e5-492e-a69e-5e55637f3d42'), AIMessage(content='Goodbye, Shreyash!\\n\\nIt was nice chatting with you. Feel free to come back anytime if you need anything else. Have a great day!', additional_kwargs={}, response_metadata={'prompt_feedback': {'block_reason': 0, 'safety_ratings': []}, 'finish_reason': 'STOP', 'model_name': 'gemini-2.5-flash', 'safety_ratings': []}, id='run--a59b7f71-8712-4654-b9a4-0fa41a9d5131-0', usage_metadata={'input_tokens': 166, 'output_tokens': 72, 'total_tokens': 238, 'input_token_details': {'cache_read': 0}, 'output_token_details': {'reasoning': 41}})]}, next=(), config={'configurable': {'thread_id': '1', 'checkpoint_ns': '', 'checkpoint_id': '1f08ca7b-3ae0-6209-8019-d0b41edcabd8'}}, metadata={'source': 'loop', 'step': 25, 'parents': {}}, created_at='2025-09-08T11:33:55.043725+00:00', parent_config={'configurable': {'thread_id': '1', 'checkpoint_ns': '', 'checkpoint_id': '1f08ca7b-3043-69fd-8018-ceee2cdc71e1'}}, tasks=(), interrupts=())"
      ]
     },
     "execution_count": 14,
     "metadata": {},
     "output_type": "execute_result"
    }
   ],
   "source": [
    "chatbot.get_state(config= config)"
   ]
  },
  {
   "cell_type": "code",
   "execution_count": null,
   "id": "c96b2400",
   "metadata": {},
   "outputs": [],
   "source": [
    " "
   ]
  }
 ],
 "metadata": {
  "kernelspec": {
   "display_name": "myenv (3.12.3)",
   "language": "python",
   "name": "python3"
  },
  "language_info": {
   "codemirror_mode": {
    "name": "ipython",
    "version": 3
   },
   "file_extension": ".py",
   "mimetype": "text/x-python",
   "name": "python",
   "nbconvert_exporter": "python",
   "pygments_lexer": "ipython3",
   "version": "3.12.3"
  }
 },
 "nbformat": 4,
 "nbformat_minor": 5
}
